{
 "cells": [
  {
   "metadata": {
    "ExecuteTime": {
     "end_time": "2024-10-02T07:42:24.536326Z",
     "start_time": "2024-10-02T07:42:24.531638Z"
    }
   },
   "cell_type": "code",
   "source": [
    "import  math\n",
    "import numpy as np\n",
    "import matplotlib.pyplot as plt\n",
    "%matplotlib inline"
   ],
   "id": "fbc121e30a2defb3",
   "outputs": [],
   "execution_count": 53
  },
  {
   "metadata": {
    "ExecuteTime": {
     "end_time": "2024-10-02T07:42:24.557701Z",
     "start_time": "2024-10-02T07:42:24.553848Z"
    }
   },
   "cell_type": "code",
   "source": [
    "def f(x):\n",
    "    return 3*x**2 - 4*x + 5"
   ],
   "id": "c66ef7eacfaf6a29",
   "outputs": [],
   "execution_count": 54
  },
  {
   "metadata": {
    "ExecuteTime": {
     "end_time": "2024-10-02T07:42:24.581559Z",
     "start_time": "2024-10-02T07:42:24.574329Z"
    }
   },
   "cell_type": "code",
   "source": "f(3.0)",
   "id": "6d98cbde91a7b4a4",
   "outputs": [
    {
     "data": {
      "text/plain": [
       "20.0"
      ]
     },
     "execution_count": 55,
     "metadata": {},
     "output_type": "execute_result"
    }
   ],
   "execution_count": 55
  },
  {
   "metadata": {
    "ExecuteTime": {
     "end_time": "2024-10-02T07:42:24.624308Z",
     "start_time": "2024-10-02T07:42:24.601389Z"
    }
   },
   "cell_type": "code",
   "source": [
    "xs = np.arange(-5 , 5 , 0.25) # this generates us an array with numbers from -5 to 5 with step value of 0.25\n",
    "ys = f(xs)                      # this will give an array that as each entry as the function applied on it\n",
    "plt.plot(xs, ys)"
   ],
   "id": "ed66ddec9416e98f",
   "outputs": [
    {
     "data": {
      "text/plain": [
       "[<matplotlib.lines.Line2D at 0x1b893fcd210>]"
      ]
     },
     "execution_count": 56,
     "metadata": {},
     "output_type": "execute_result"
    }
   ],
   "execution_count": 56
  },
  {
   "metadata": {},
   "cell_type": "markdown",
   "source": [
    " Now we wanna know the derivatives at a certain point x.\n",
    " \n",
    "now, like the last one where we manually derived the derivatives needed for backpropagation it was really time consuming and not at all viable for a larger nn. So to tackle this we would need to come up with a better approach.\n"
   ],
   "id": "ef3adf85af231970"
  },
  {
   "metadata": {},
   "cell_type": "markdown",
   "source": "what derivative really is that it tells us what happens if we slightly bump up our x by h, what sensitivity it responds with.\n",
   "id": "9ea9fcf5b9e0ef2f"
  },
  {
   "metadata": {
    "ExecuteTime": {
     "end_time": "2024-10-02T07:42:24.649546Z",
     "start_time": "2024-10-02T07:42:24.644860Z"
    }
   },
   "cell_type": "code",
   "source": [
    "h = 0.000001\n",
    "x = 2/3\n",
    "(f(x+h) - f (x)) / h"
   ],
   "id": "be292972b200a916",
   "outputs": [
    {
     "data": {
      "text/plain": [
       "2.999378523327323e-06"
      ]
     },
     "execution_count": 57,
     "metadata": {},
     "output_type": "execute_result"
    }
   ],
   "execution_count": 57
  },
  {
   "metadata": {
    "ExecuteTime": {
     "end_time": "2024-10-02T07:42:24.678587Z",
     "start_time": "2024-10-02T07:42:24.674152Z"
    }
   },
   "cell_type": "code",
   "source": [
    "h = 0.0001\n",
    "\n",
    "# Inputs..\n",
    "a = 2.0\n",
    "b = -3.0\n",
    "c = 10.0\n",
    "\n",
    "d1 = a*b + c\n",
    "# getting derivative wrt to a\n",
    "a += h\n",
    "d2 = a*b + c\n",
    "print(f\"d1: {d1}\")\n",
    "print(f\"d2: {d2}\")\n",
    "print(f\"Slope: {(d1-d2)/h}\")"
   ],
   "id": "430f5fefcd50830a",
   "outputs": [
    {
     "name": "stdout",
     "output_type": "stream",
     "text": [
      "d1: 4.0\n",
      "d2: 3.999699999999999\n",
      "Slope: 3.000000000010772\n"
     ]
    }
   ],
   "execution_count": 58
  },
  {
   "metadata": {
    "ExecuteTime": {
     "end_time": "2024-10-02T10:26:23.354539Z",
     "start_time": "2024-10-02T10:26:23.344374Z"
    }
   },
   "cell_type": "code",
   "source": [
    "class Value():\n",
    "    def __init__(self, data, _children = (), _op = '', label = ''):\n",
    "        self.data = data\n",
    "        self._prev = set(_children)\n",
    "        self._op = _op\n",
    "        self._backward = lambda : None\n",
    "        self.label = label\n",
    "        self.grad = 0.0 # this means initially it is not affected by anything\n",
    "        \n",
    "    def __repr__(self):\n",
    "        return f\"Value(data={self.data})\"\n",
    "    \n",
    "    def __add__(self, other):\n",
    "        out = Value(self.data + other.data, (self,other),'+')\n",
    "        def _backward():\n",
    "            self.grad = out.grad * 1.0\n",
    "            other.grad = out.grad * 1.0\n",
    "            \n",
    "        out._backward = _backward\n",
    "            \n",
    "        return out\n",
    "    \n",
    "    def __mul__(self, other):\n",
    "        out = Value(self.data * other.data,(self,other), '*')\n",
    "        def _backward():\n",
    "            self.grad = other.data * out.grad\n",
    "            other.grad = self.data * out.grad\n",
    "            \n",
    "        out._backward = _backward\n",
    "            \n",
    "        return out \n",
    "    \n",
    "    def tanh(self): #purpose of this is to act as an activation function for our neurons output\n",
    "        x = self.data\n",
    "        o = (math.exp(2*x) - 1) / (math.exp(2*x) + 1)\n",
    "        out = Value(o, (self, ), 'tanh')\n",
    "        \n",
    "        def _backward():\n",
    "            self.grad = (1 - o**2) * out.grad\n",
    "        \n",
    "        out._backward = _backward\n",
    "        \n",
    "        return out\n",
    "\n",
    "    \n",
    "a = Value(2.0, label='a')\n",
    "b = Value(-3.0, label='b')\n",
    "c = Value(10.0, label='c')\n",
    "e = a*b; e.label = 'e'\n",
    "d = e + c; d.label = 'd'\n",
    "f = Value(-2.0, label='f')\n",
    "L = d * f; L.label = 'L'\n",
    "L"
   ],
   "id": "bb7992a857e1a939",
   "outputs": [
    {
     "data": {
      "text/plain": [
       "Value(data=-8.0)"
      ]
     },
     "execution_count": 204,
     "metadata": {},
     "output_type": "execute_result"
    }
   ],
   "execution_count": 204
  },
  {
   "metadata": {
    "ExecuteTime": {
     "end_time": "2024-10-02T10:18:31.960896Z",
     "start_time": "2024-10-02T10:18:31.956195Z"
    }
   },
   "cell_type": "code",
   "source": "d._prev",
   "id": "affc28f72f994cd6",
   "outputs": [
    {
     "data": {
      "text/plain": [
       "{Value(data=-6.0), Value(data=10.0)}"
      ]
     },
     "execution_count": 171,
     "metadata": {},
     "output_type": "execute_result"
    }
   ],
   "execution_count": 171
  },
  {
   "metadata": {
    "ExecuteTime": {
     "end_time": "2024-10-02T10:18:32.267595Z",
     "start_time": "2024-10-02T10:18:32.263227Z"
    }
   },
   "cell_type": "code",
   "source": "d._op",
   "id": "453d35e22a80629b",
   "outputs": [
    {
     "data": {
      "text/plain": [
       "'+'"
      ]
     },
     "execution_count": 172,
     "metadata": {},
     "output_type": "execute_result"
    }
   ],
   "execution_count": 172
  },
  {
   "metadata": {},
   "cell_type": "markdown",
   "source": "### Lets Import a library to draw a flowchart of the tree representation of dependencies of the variable\n",
   "id": "c57e99666adc883f"
  },
  {
   "metadata": {
    "ExecuteTime": {
     "end_time": "2024-10-02T10:14:53.874258Z",
     "start_time": "2024-10-02T10:14:53.867140Z"
    }
   },
   "cell_type": "code",
   "source": [
    "from graphviz import Digraph\n",
    "\n",
    "def trace(root):\n",
    "  # builds a set of all nodes and edges in a graph\n",
    "  nodes, edges = set(), set() # make a set to store all nodes and edges\n",
    "  def build(v):\n",
    "    if v not in nodes: # if node not currently found we add it\n",
    "      nodes.add(v)\n",
    "      for child in v._prev: # recursively backtrack looking for nodes that make up the current node\n",
    "        edges.add((child, v))\n",
    "        build(child) # now apply this on the childs\n",
    "  build(root)  # apply it to solo nodes\n",
    "  return nodes, edges\n",
    "\n",
    "def draw_dot(root):\n",
    "  dot = Digraph(format='svg', graph_attr={'rankdir': 'LR'}) # LR = left to right\n",
    "  # define the formatting of the nodes and graph\n",
    "  nodes, edges = trace(root)\n",
    "  for n in nodes:\n",
    "    uid = str(id(n)) # iterate over all nodes and then give them a unique id for representating it\n",
    "    # for any value in the graph, create a rectangular ('record') node for it\n",
    "    dot.node(name = uid, label = \"{ %s | data: %.4f | grad: %.4f}\" % (n.label, n.data, n.grad), shape='record')\n",
    "    if n._op:\n",
    "      # if this value is a result of some operation, create an op node for it\n",
    "      dot.node(name = uid + n._op, label = n._op)\n",
    "      # and connect this node to it\n",
    "      dot.edge(uid + n._op, uid)\n",
    "\n",
    "  for n1, n2 in edges:\n",
    "    # connect n1 to the op node of n2\n",
    "    dot.edge(str(id(n1)), str(id(n2)) + n2._op)\n",
    "\n",
    "  return dot"
   ],
   "id": "3fb59245e2d0d34e",
   "outputs": [],
   "execution_count": 152
  },
  {
   "metadata": {
    "ExecuteTime": {
     "end_time": "2024-10-02T10:14:54.092413Z",
     "start_time": "2024-10-02T10:14:54.029070Z"
    }
   },
   "cell_type": "code",
   "source": "draw_dot(L)",
   "id": "bec4e9ee78593f51",
   "outputs": [
    {
     "data": {
      "image/svg+xml": "<?xml version=\"1.0\" encoding=\"UTF-8\" standalone=\"no\"?>\n<!DOCTYPE svg PUBLIC \"-//W3C//DTD SVG 1.1//EN\"\n \"http://www.w3.org/Graphics/SVG/1.1/DTD/svg11.dtd\">\n<!-- Generated by graphviz version 2.50.0 (0)\n -->\n<!-- Pages: 1 -->\n<svg width=\"1180pt\" height=\"156pt\"\n viewBox=\"0.00 0.00 1180.00 156.00\" xmlns=\"http://www.w3.org/2000/svg\" xmlns:xlink=\"http://www.w3.org/1999/xlink\">\n<g id=\"graph0\" class=\"graph\" transform=\"scale(1 1) rotate(0) translate(4 152)\">\n<polygon fill=\"white\" stroke=\"transparent\" points=\"-4,4 -4,-152 1176,-152 1176,4 -4,4\"/>\n<!-- 1892270943248 -->\n<g id=\"node1\" class=\"node\">\n<title>1892270943248</title>\n<polygon fill=\"none\" stroke=\"black\" points=\"0,-111.5 0,-147.5 198,-147.5 198,-111.5 0,-111.5\"/>\n<text text-anchor=\"middle\" x=\"11.5\" y=\"-125.8\" font-family=\"Times New Roman,serif\" font-size=\"14.00\">b</text>\n<polyline fill=\"none\" stroke=\"black\" points=\"23,-111.5 23,-147.5 \"/>\n<text text-anchor=\"middle\" x=\"67.5\" y=\"-125.8\" font-family=\"Times New Roman,serif\" font-size=\"14.00\">data: &#45;3.0000</text>\n<polyline fill=\"none\" stroke=\"black\" points=\"112,-111.5 112,-147.5 \"/>\n<text text-anchor=\"middle\" x=\"155\" y=\"-125.8\" font-family=\"Times New Roman,serif\" font-size=\"14.00\">grad: 0.0000</text>\n</g>\n<!-- 1892271203088* -->\n<g id=\"node7\" class=\"node\">\n<title>1892271203088*</title>\n<ellipse fill=\"none\" stroke=\"black\" cx=\"261\" cy=\"-101.5\" rx=\"27\" ry=\"18\"/>\n<text text-anchor=\"middle\" x=\"261\" y=\"-97.8\" font-family=\"Times New Roman,serif\" font-size=\"14.00\">*</text>\n</g>\n<!-- 1892270943248&#45;&gt;1892271203088* -->\n<g id=\"edge7\" class=\"edge\">\n<title>1892270943248&#45;&gt;1892271203088*</title>\n<path fill=\"none\" stroke=\"black\" d=\"M198.14,-112.33C207.5,-110.69 216.5,-109.11 224.61,-107.69\"/>\n<polygon fill=\"black\" stroke=\"black\" points=\"225.46,-111.1 234.7,-105.93 224.25,-104.2 225.46,-111.1\"/>\n</g>\n<!-- 1892271203472 -->\n<g id=\"node2\" class=\"node\">\n<title>1892271203472</title>\n<polygon fill=\"none\" stroke=\"black\" points=\"651.5,-55.5 651.5,-91.5 844.5,-91.5 844.5,-55.5 651.5,-55.5\"/>\n<text text-anchor=\"middle\" x=\"663\" y=\"-69.8\" font-family=\"Times New Roman,serif\" font-size=\"14.00\">d</text>\n<polyline fill=\"none\" stroke=\"black\" points=\"674.5,-55.5 674.5,-91.5 \"/>\n<text text-anchor=\"middle\" x=\"716.5\" y=\"-69.8\" font-family=\"Times New Roman,serif\" font-size=\"14.00\">data: 4.0000</text>\n<polyline fill=\"none\" stroke=\"black\" points=\"758.5,-55.5 758.5,-91.5 \"/>\n<text text-anchor=\"middle\" x=\"801.5\" y=\"-69.8\" font-family=\"Times New Roman,serif\" font-size=\"14.00\">grad: 0.0000</text>\n</g>\n<!-- 1892271195472* -->\n<g id=\"node9\" class=\"node\">\n<title>1892271195472*</title>\n<ellipse fill=\"none\" stroke=\"black\" cx=\"909\" cy=\"-45.5\" rx=\"27\" ry=\"18\"/>\n<text text-anchor=\"middle\" x=\"909\" y=\"-41.8\" font-family=\"Times New Roman,serif\" font-size=\"14.00\">*</text>\n</g>\n<!-- 1892271203472&#45;&gt;1892271195472* -->\n<g id=\"edge9\" class=\"edge\">\n<title>1892271203472&#45;&gt;1892271195472*</title>\n<path fill=\"none\" stroke=\"black\" d=\"M844.7,-56.65C854.61,-54.9 864.18,-53.22 872.73,-51.71\"/>\n<polygon fill=\"black\" stroke=\"black\" points=\"873.39,-55.15 882.63,-49.97 872.18,-48.25 873.39,-55.15\"/>\n</g>\n<!-- 1892271203472+ -->\n<g id=\"node3\" class=\"node\">\n<title>1892271203472+</title>\n<ellipse fill=\"none\" stroke=\"black\" cx=\"587\" cy=\"-73.5\" rx=\"27\" ry=\"18\"/>\n<text text-anchor=\"middle\" x=\"587\" y=\"-69.8\" font-family=\"Times New Roman,serif\" font-size=\"14.00\">+</text>\n</g>\n<!-- 1892271203472+&#45;&gt;1892271203472 -->\n<g id=\"edge1\" class=\"edge\">\n<title>1892271203472+&#45;&gt;1892271203472</title>\n<path fill=\"none\" stroke=\"black\" d=\"M614.26,-73.5C622.19,-73.5 631.44,-73.5 641.3,-73.5\"/>\n<polygon fill=\"black\" stroke=\"black\" points=\"641.33,-77 651.33,-73.5 641.33,-70 641.33,-77\"/>\n</g>\n<!-- 1892271200400 -->\n<g id=\"node4\" class=\"node\">\n<title>1892271200400</title>\n<polygon fill=\"none\" stroke=\"black\" points=\"2.5,-56.5 2.5,-92.5 195.5,-92.5 195.5,-56.5 2.5,-56.5\"/>\n<text text-anchor=\"middle\" x=\"14\" y=\"-70.8\" font-family=\"Times New Roman,serif\" font-size=\"14.00\">a</text>\n<polyline fill=\"none\" stroke=\"black\" points=\"25.5,-56.5 25.5,-92.5 \"/>\n<text text-anchor=\"middle\" x=\"67.5\" y=\"-70.8\" font-family=\"Times New Roman,serif\" font-size=\"14.00\">data: 2.0000</text>\n<polyline fill=\"none\" stroke=\"black\" points=\"109.5,-56.5 109.5,-92.5 \"/>\n<text text-anchor=\"middle\" x=\"152.5\" y=\"-70.8\" font-family=\"Times New Roman,serif\" font-size=\"14.00\">grad: 0.0000</text>\n</g>\n<!-- 1892271200400&#45;&gt;1892271203088* -->\n<g id=\"edge8\" class=\"edge\">\n<title>1892271200400&#45;&gt;1892271203088*</title>\n<path fill=\"none\" stroke=\"black\" d=\"M195.84,-90.67C205.97,-92.38 215.74,-94.03 224.48,-95.51\"/>\n<polygon fill=\"black\" stroke=\"black\" points=\"224.13,-99 234.57,-97.21 225.29,-92.09 224.13,-99\"/>\n</g>\n<!-- 1892271202448 -->\n<g id=\"node5\" class=\"node\">\n<title>1892271202448</title>\n<polygon fill=\"none\" stroke=\"black\" points=\"324,-28.5 324,-64.5 524,-64.5 524,-28.5 324,-28.5\"/>\n<text text-anchor=\"middle\" x=\"335.5\" y=\"-42.8\" font-family=\"Times New Roman,serif\" font-size=\"14.00\">c</text>\n<polyline fill=\"none\" stroke=\"black\" points=\"347,-28.5 347,-64.5 \"/>\n<text text-anchor=\"middle\" x=\"392.5\" y=\"-42.8\" font-family=\"Times New Roman,serif\" font-size=\"14.00\">data: 10.0000</text>\n<polyline fill=\"none\" stroke=\"black\" points=\"438,-28.5 438,-64.5 \"/>\n<text text-anchor=\"middle\" x=\"481\" y=\"-42.8\" font-family=\"Times New Roman,serif\" font-size=\"14.00\">grad: 0.0000</text>\n</g>\n<!-- 1892271202448&#45;&gt;1892271203472+ -->\n<g id=\"edge4\" class=\"edge\">\n<title>1892271202448&#45;&gt;1892271203472+</title>\n<path fill=\"none\" stroke=\"black\" d=\"M524.21,-63.14C533.57,-64.71 542.57,-66.22 550.67,-67.58\"/>\n<polygon fill=\"black\" stroke=\"black\" points=\"550.31,-71.06 560.76,-69.27 551.47,-64.16 550.31,-71.06\"/>\n</g>\n<!-- 1892271203088 -->\n<g id=\"node6\" class=\"node\">\n<title>1892271203088</title>\n<polygon fill=\"none\" stroke=\"black\" points=\"325,-83.5 325,-119.5 523,-119.5 523,-83.5 325,-83.5\"/>\n<text text-anchor=\"middle\" x=\"336.5\" y=\"-97.8\" font-family=\"Times New Roman,serif\" font-size=\"14.00\">e</text>\n<polyline fill=\"none\" stroke=\"black\" points=\"348,-83.5 348,-119.5 \"/>\n<text text-anchor=\"middle\" x=\"392.5\" y=\"-97.8\" font-family=\"Times New Roman,serif\" font-size=\"14.00\">data: &#45;6.0000</text>\n<polyline fill=\"none\" stroke=\"black\" points=\"437,-83.5 437,-119.5 \"/>\n<text text-anchor=\"middle\" x=\"480\" y=\"-97.8\" font-family=\"Times New Roman,serif\" font-size=\"14.00\">grad: 0.0000</text>\n</g>\n<!-- 1892271203088&#45;&gt;1892271203472+ -->\n<g id=\"edge6\" class=\"edge\">\n<title>1892271203088&#45;&gt;1892271203472+</title>\n<path fill=\"none\" stroke=\"black\" d=\"M523.29,-84.41C532.96,-82.72 542.27,-81.11 550.62,-79.65\"/>\n<polygon fill=\"black\" stroke=\"black\" points=\"551.38,-83.07 560.64,-77.91 550.18,-76.18 551.38,-83.07\"/>\n</g>\n<!-- 1892271203088*&#45;&gt;1892271203088 -->\n<g id=\"edge2\" class=\"edge\">\n<title>1892271203088*&#45;&gt;1892271203088</title>\n<path fill=\"none\" stroke=\"black\" d=\"M288.23,-101.5C295.96,-101.5 304.95,-101.5 314.55,-101.5\"/>\n<polygon fill=\"black\" stroke=\"black\" points=\"314.74,-105 324.74,-101.5 314.74,-98 314.74,-105\"/>\n</g>\n<!-- 1892271195472 -->\n<g id=\"node8\" class=\"node\">\n<title>1892271195472</title>\n<polygon fill=\"none\" stroke=\"black\" points=\"972,-27.5 972,-63.5 1172,-63.5 1172,-27.5 972,-27.5\"/>\n<text text-anchor=\"middle\" x=\"984.5\" y=\"-41.8\" font-family=\"Times New Roman,serif\" font-size=\"14.00\">L</text>\n<polyline fill=\"none\" stroke=\"black\" points=\"997,-27.5 997,-63.5 \"/>\n<text text-anchor=\"middle\" x=\"1041.5\" y=\"-41.8\" font-family=\"Times New Roman,serif\" font-size=\"14.00\">data: &#45;8.0000</text>\n<polyline fill=\"none\" stroke=\"black\" points=\"1086,-27.5 1086,-63.5 \"/>\n<text text-anchor=\"middle\" x=\"1129\" y=\"-41.8\" font-family=\"Times New Roman,serif\" font-size=\"14.00\">grad: 0.0000</text>\n</g>\n<!-- 1892271195472*&#45;&gt;1892271195472 -->\n<g id=\"edge3\" class=\"edge\">\n<title>1892271195472*&#45;&gt;1892271195472</title>\n<path fill=\"none\" stroke=\"black\" d=\"M936.23,-45.5C943.69,-45.5 952.31,-45.5 961.52,-45.5\"/>\n<polygon fill=\"black\" stroke=\"black\" points=\"961.71,-49 971.71,-45.5 961.71,-42 961.71,-49\"/>\n</g>\n<!-- 1892271204816 -->\n<g id=\"node10\" class=\"node\">\n<title>1892271204816</title>\n<polygon fill=\"none\" stroke=\"black\" points=\"650,-0.5 650,-36.5 846,-36.5 846,-0.5 650,-0.5\"/>\n<text text-anchor=\"middle\" x=\"660.5\" y=\"-14.8\" font-family=\"Times New Roman,serif\" font-size=\"14.00\">f</text>\n<polyline fill=\"none\" stroke=\"black\" points=\"671,-0.5 671,-36.5 \"/>\n<text text-anchor=\"middle\" x=\"715.5\" y=\"-14.8\" font-family=\"Times New Roman,serif\" font-size=\"14.00\">data: &#45;2.0000</text>\n<polyline fill=\"none\" stroke=\"black\" points=\"760,-0.5 760,-36.5 \"/>\n<text text-anchor=\"middle\" x=\"803\" y=\"-14.8\" font-family=\"Times New Roman,serif\" font-size=\"14.00\">grad: 0.0000</text>\n</g>\n<!-- 1892271204816&#45;&gt;1892271195472* -->\n<g id=\"edge5\" class=\"edge\">\n<title>1892271204816&#45;&gt;1892271195472*</title>\n<path fill=\"none\" stroke=\"black\" d=\"M846.07,-34.98C855.42,-36.57 864.43,-38.1 872.55,-39.48\"/>\n<polygon fill=\"black\" stroke=\"black\" points=\"872.21,-42.97 882.65,-41.2 873.38,-36.07 872.21,-42.97\"/>\n</g>\n</g>\n</svg>\n",
      "text/plain": [
       "<graphviz.graphs.Digraph at 0x1b89423b150>"
      ]
     },
     "execution_count": 153,
     "metadata": {},
     "output_type": "execute_result"
    }
   ],
   "execution_count": 153
  },
  {
   "metadata": {
    "ExecuteTime": {
     "end_time": "2024-10-02T10:14:54.221590Z",
     "start_time": "2024-10-02T10:14:54.216220Z"
    }
   },
   "cell_type": "code",
   "source": [
    "L.grad = 1.0\n",
    "f.grad = 4.0\n",
    "d.grad = -2.0\n",
    "e.grad = -2.0\n",
    "c.grad = -2.0\n",
    "b.grad = 2.0 * (-2.0)\n",
    "a.grad = -3.0 * (-2.0)\n"
   ],
   "id": "e58188393352b019",
   "outputs": [],
   "execution_count": 154
  },
  {
   "metadata": {},
   "cell_type": "markdown",
   "source": [
    "- a = Value(2.0, label='a')\n",
    "- b = Value(-3.0, label='b')\n",
    "- c = Value(10.0, label='c')\n",
    "- e = a*b; e.label = 'e' -------> -6\n",
    "- d = e + c; d.label = 'd' --------> 4\n",
    "- f = Value(-2.0, label='f') ------> -2\n",
    "- L = d * f; L.label = 'L' -------> -8\n",
    "\n",
    "**now, gradients will be calculated**\n",
    "- dL/dL = 1\n",
    "- dL/df = d\n",
    "- dL/dd = f\n",
    "- dL/de = (dL/dd)* (dd/de) = f*1 = f\n",
    "- dL/dc = (dL/dd) * (dd/dc) = f*1 = f\n",
    "- dL/db = (dL/de)*(de/db) = f * a\n",
    "- dL/da = (dL/de)*(de/da) = f * b\n"
   ],
   "id": "28041ab78308ee5b"
  },
  {
   "metadata": {
    "ExecuteTime": {
     "end_time": "2024-10-02T10:14:54.871976Z",
     "start_time": "2024-10-02T10:14:54.865766Z"
    }
   },
   "cell_type": "code",
   "source": [
    "def lol(): # use this to find derivatives and verify\n",
    "  \n",
    "  h = 0.001\n",
    "  \n",
    "  a = Value(2.0, label='a')\n",
    "  b = Value(-3.0, label='b')\n",
    "  c = Value(10.0, label='c')\n",
    "  e = a*b; e.label = 'e'\n",
    "  d = e + c; d.label = 'd'\n",
    "  f = Value(-2.0, label='f')\n",
    "  L = d * f; L.label = 'L'\n",
    "  L1 = L.data\n",
    "  \n",
    "  a = Value(2.0, label='a')\n",
    "  b = Value(-3.0, label='b')\n",
    "  b.data += h\n",
    "  c = Value(10.0, label='c')\n",
    "  e = a*b; e.label = 'e'\n",
    "  d = e + c; d.label = 'd'\n",
    "  f = Value(-2.0, label='f')\n",
    "  L = d * f; L.label = 'L'\n",
    "  L2 = L.data\n",
    "  \n",
    "  print((L2 - L1)/h)\n",
    "  \n",
    "lol()"
   ],
   "id": "c290029828f3d3e9",
   "outputs": [
    {
     "name": "stdout",
     "output_type": "stream",
     "text": [
      "-3.9999999999995595\n"
     ]
    }
   ],
   "execution_count": 155
  },
  {
   "metadata": {},
   "cell_type": "markdown",
   "source": [
    "To increase value of L we move in the direction of gradient.\n",
    "if we nudge all the values L depends on in direction of gradient we will be able to increase L to maximize it."
   ],
   "id": "4653cdf50402c95d"
  },
  {
   "metadata": {
    "ExecuteTime": {
     "end_time": "2024-10-02T10:14:55.219316Z",
     "start_time": "2024-10-02T10:14:55.215007Z"
    }
   },
   "cell_type": "code",
   "source": [
    "a.data += 0.01 * a.grad\n",
    "b.data += 0.01 * b.grad\n",
    "c.data += 0.01 * c.grad\n",
    "f.data += 0.01 * f.grad\n",
    "\n",
    "e = a*b\n",
    "d = e+c\n",
    "L = d*f\n",
    "\n",
    "print(L.data)"
   ],
   "id": "de277bffdf756ce8",
   "outputs": [
    {
     "name": "stdout",
     "output_type": "stream",
     "text": [
      "-7.286496\n"
     ]
    }
   ],
   "execution_count": 156
  },
  {
   "metadata": {
    "ExecuteTime": {
     "end_time": "2024-10-02T10:14:55.466459Z",
     "start_time": "2024-10-02T10:14:55.379187Z"
    }
   },
   "cell_type": "code",
   "source": [
    "plt.plot(np.arange(-5,5,0.2), np.tanh(np.arange(-5,5,0.2))); plt.grid(); # our activation function for neurons\n",
    "plt.show()"
   ],
   "id": "da0daafff069ca63",
   "outputs": [
    {
     "data": {
      "text/plain": [
       "<Figure size 640x480 with 1 Axes>"
      ],
      "image/png": "[encoded data removed]"
     },
     "metadata": {},
     "output_type": "display_data"
    }
   ],
   "execution_count": 157
  },
  {
   "metadata": {
    "ExecuteTime": {
     "end_time": "2024-10-02T10:26:38.871215Z",
     "start_time": "2024-10-02T10:26:38.866652Z"
    }
   },
   "cell_type": "code",
   "source": [
    "# inputs x1,x2\n",
    "x1 = Value(2.0, label='x1')\n",
    "x2 = Value(0.0, label='x2')\n",
    "# weights w1,w2\n",
    "w1 = Value(-3.0, label='w1')\n",
    "w2 = Value(1.0, label='w2')\n",
    "# bias of the neuron\n",
    "b = Value(6.8813735870195432, label='b') # The vid choose this bias so that values come out proper to better understand gradient\n",
    "# x1*w1 + x2*w2 + b \n",
    "x1w1 = x1*w1; x1w1.label = 'x1*w1'\n",
    "x2w2 = x2*w2; x2w2.label = 'x2*w2'\n",
    "x1w1x2w2 = x1w1 + x2w2; x1w1x2w2.label = 'x1*w1 + x2*w2'\n",
    "n = x1w1x2w2 + b; n.label = 'n'\n",
    "\n",
    "o= n.tanh(); o.label = 'o'"
   ],
   "id": "8ad0bd64f6610fe",
   "outputs": [],
   "execution_count": 205
  },
  {
   "metadata": {
    "ExecuteTime": {
     "end_time": "2024-10-02T10:15:03.521176Z",
     "start_time": "2024-10-02T10:15:03.474568Z"
    }
   },
   "cell_type": "code",
   "source": "draw_dot(o)",
   "id": "19a5e26ae4e1f4f0",
   "outputs": [
    {
     "data": {
      "image/svg+xml": "<?xml version=\"1.0\" encoding=\"UTF-8\" standalone=\"no\"?>\n<!DOCTYPE svg PUBLIC \"-//W3C//DTD SVG 1.1//EN\"\n \"http://www.w3.org/Graphics/SVG/1.1/DTD/svg11.dtd\">\n<!-- Generated by graphviz version 2.50.0 (0)\n -->\n<!-- Pages: 1 -->\n<svg width=\"1615pt\" height=\"210pt\"\n viewBox=\"0.00 0.00 1615.00 210.00\" xmlns=\"http://www.w3.org/2000/svg\" xmlns:xlink=\"http://www.w3.org/1999/xlink\">\n<g id=\"graph0\" class=\"graph\" transform=\"scale(1 1) rotate(0) translate(4 206)\">\n<polygon fill=\"white\" stroke=\"transparent\" points=\"-4,4 -4,-206 1611,-206 1611,4 -4,4\"/>\n<!-- 1892268680208 -->\n<g id=\"node1\" class=\"node\">\n<title>1892268680208</title>\n<polygon fill=\"none\" stroke=\"black\" points=\"688,-82.5 688,-118.5 969,-118.5 969,-82.5 688,-82.5\"/>\n<text text-anchor=\"middle\" x=\"741\" y=\"-96.8\" font-family=\"Times New Roman,serif\" font-size=\"14.00\">x1*w1 + x2*w2</text>\n<polyline fill=\"none\" stroke=\"black\" points=\"794,-82.5 794,-118.5 \"/>\n<text text-anchor=\"middle\" x=\"838.5\" y=\"-96.8\" font-family=\"Times New Roman,serif\" font-size=\"14.00\">data: &#45;6.0000</text>\n<polyline fill=\"none\" stroke=\"black\" points=\"883,-82.5 883,-118.5 \"/>\n<text text-anchor=\"middle\" x=\"926\" y=\"-96.8\" font-family=\"Times New Roman,serif\" font-size=\"14.00\">grad: 0.5000</text>\n</g>\n<!-- 1892271824912+ -->\n<g id=\"node4\" class=\"node\">\n<title>1892271824912+</title>\n<ellipse fill=\"none\" stroke=\"black\" cx=\"1032\" cy=\"-127.5\" rx=\"27\" ry=\"18\"/>\n<text text-anchor=\"middle\" x=\"1032\" y=\"-123.8\" font-family=\"Times New Roman,serif\" font-size=\"14.00\">+</text>\n</g>\n<!-- 1892268680208&#45;&gt;1892271824912+ -->\n<g id=\"edge14\" class=\"edge\">\n<title>1892268680208&#45;&gt;1892271824912+</title>\n<path fill=\"none\" stroke=\"black\" d=\"M963.9,-118.51C975.23,-120.03 985.92,-121.46 995.3,-122.72\"/>\n<polygon fill=\"black\" stroke=\"black\" points=\"994.91,-126.2 1005.29,-124.05 995.84,-119.26 994.91,-126.2\"/>\n</g>\n<!-- 1892268680208+ -->\n<g id=\"node2\" class=\"node\">\n<title>1892268680208+</title>\n<ellipse fill=\"none\" stroke=\"black\" cx=\"625\" cy=\"-100.5\" rx=\"27\" ry=\"18\"/>\n<text text-anchor=\"middle\" x=\"625\" y=\"-96.8\" font-family=\"Times New Roman,serif\" font-size=\"14.00\">+</text>\n</g>\n<!-- 1892268680208+&#45;&gt;1892268680208 -->\n<g id=\"edge1\" class=\"edge\">\n<title>1892268680208+&#45;&gt;1892268680208</title>\n<path fill=\"none\" stroke=\"black\" d=\"M652.34,-100.5C659.79,-100.5 668.45,-100.5 677.87,-100.5\"/>\n<polygon fill=\"black\" stroke=\"black\" points=\"677.94,-104 687.94,-100.5 677.94,-97 677.94,-104\"/>\n</g>\n<!-- 1892271824912 -->\n<g id=\"node3\" class=\"node\">\n<title>1892271824912</title>\n<polygon fill=\"none\" stroke=\"black\" points=\"1095,-109.5 1095,-145.5 1288,-145.5 1288,-109.5 1095,-109.5\"/>\n<text text-anchor=\"middle\" x=\"1106.5\" y=\"-123.8\" font-family=\"Times New Roman,serif\" font-size=\"14.00\">n</text>\n<polyline fill=\"none\" stroke=\"black\" points=\"1118,-109.5 1118,-145.5 \"/>\n<text text-anchor=\"middle\" x=\"1160\" y=\"-123.8\" font-family=\"Times New Roman,serif\" font-size=\"14.00\">data: 0.8814</text>\n<polyline fill=\"none\" stroke=\"black\" points=\"1202,-109.5 1202,-145.5 \"/>\n<text text-anchor=\"middle\" x=\"1245\" y=\"-123.8\" font-family=\"Times New Roman,serif\" font-size=\"14.00\">grad: 0.5000</text>\n</g>\n<!-- 1892271229328tanh -->\n<g id=\"node14\" class=\"node\">\n<title>1892271229328tanh</title>\n<ellipse fill=\"none\" stroke=\"black\" cx=\"1351\" cy=\"-127.5\" rx=\"27\" ry=\"18\"/>\n<text text-anchor=\"middle\" x=\"1351\" y=\"-123.8\" font-family=\"Times New Roman,serif\" font-size=\"14.00\">tanh</text>\n</g>\n<!-- 1892271824912&#45;&gt;1892271229328tanh -->\n<g id=\"edge7\" class=\"edge\">\n<title>1892271824912&#45;&gt;1892271229328tanh</title>\n<path fill=\"none\" stroke=\"black\" d=\"M1288.2,-127.5C1297.15,-127.5 1305.79,-127.5 1313.63,-127.5\"/>\n<polygon fill=\"black\" stroke=\"black\" points=\"1313.78,-131 1323.78,-127.5 1313.78,-124 1313.78,-131\"/>\n</g>\n<!-- 1892271824912+&#45;&gt;1892271824912 -->\n<g id=\"edge2\" class=\"edge\">\n<title>1892271824912+&#45;&gt;1892271824912</title>\n<path fill=\"none\" stroke=\"black\" d=\"M1059.01,-127.5C1066.52,-127.5 1075.21,-127.5 1084.47,-127.5\"/>\n<polygon fill=\"black\" stroke=\"black\" points=\"1084.72,-131 1094.72,-127.5 1084.72,-124 1084.72,-131\"/>\n</g>\n<!-- 1892269829136 -->\n<g id=\"node5\" class=\"node\">\n<title>1892269829136</title>\n<polygon fill=\"none\" stroke=\"black\" points=\"336.5,-110.5 336.5,-146.5 559.5,-146.5 559.5,-110.5 336.5,-110.5\"/>\n<text text-anchor=\"middle\" x=\"363\" y=\"-124.8\" font-family=\"Times New Roman,serif\" font-size=\"14.00\">x2*w2</text>\n<polyline fill=\"none\" stroke=\"black\" points=\"389.5,-110.5 389.5,-146.5 \"/>\n<text text-anchor=\"middle\" x=\"431.5\" y=\"-124.8\" font-family=\"Times New Roman,serif\" font-size=\"14.00\">data: 0.0000</text>\n<polyline fill=\"none\" stroke=\"black\" points=\"473.5,-110.5 473.5,-146.5 \"/>\n<text text-anchor=\"middle\" x=\"516.5\" y=\"-124.8\" font-family=\"Times New Roman,serif\" font-size=\"14.00\">grad: 0.5000</text>\n</g>\n<!-- 1892269829136&#45;&gt;1892268680208+ -->\n<g id=\"edge6\" class=\"edge\">\n<title>1892269829136&#45;&gt;1892268680208+</title>\n<path fill=\"none\" stroke=\"black\" d=\"M559.83,-110.77C570.05,-109.13 579.82,-107.57 588.51,-106.18\"/>\n<polygon fill=\"black\" stroke=\"black\" points=\"589.21,-109.61 598.54,-104.57 588.11,-102.7 589.21,-109.61\"/>\n</g>\n<!-- 1892269829136* -->\n<g id=\"node6\" class=\"node\">\n<title>1892269829136*</title>\n<ellipse fill=\"none\" stroke=\"black\" cx=\"271\" cy=\"-128.5\" rx=\"27\" ry=\"18\"/>\n<text text-anchor=\"middle\" x=\"271\" y=\"-124.8\" font-family=\"Times New Roman,serif\" font-size=\"14.00\">*</text>\n</g>\n<!-- 1892269829136*&#45;&gt;1892269829136 -->\n<g id=\"edge3\" class=\"edge\">\n<title>1892269829136*&#45;&gt;1892269829136</title>\n<path fill=\"none\" stroke=\"black\" d=\"M298.2,-128.5C306.36,-128.5 315.96,-128.5 326.28,-128.5\"/>\n<polygon fill=\"black\" stroke=\"black\" points=\"326.37,-132 336.37,-128.5 326.37,-125 326.37,-132\"/>\n</g>\n<!-- 1892271817872 -->\n<g id=\"node7\" class=\"node\">\n<title>1892271817872</title>\n<polygon fill=\"none\" stroke=\"black\" points=\"334,-55.5 334,-91.5 562,-91.5 562,-55.5 334,-55.5\"/>\n<text text-anchor=\"middle\" x=\"360.5\" y=\"-69.8\" font-family=\"Times New Roman,serif\" font-size=\"14.00\">x1*w1</text>\n<polyline fill=\"none\" stroke=\"black\" points=\"387,-55.5 387,-91.5 \"/>\n<text text-anchor=\"middle\" x=\"431.5\" y=\"-69.8\" font-family=\"Times New Roman,serif\" font-size=\"14.00\">data: &#45;6.0000</text>\n<polyline fill=\"none\" stroke=\"black\" points=\"476,-55.5 476,-91.5 \"/>\n<text text-anchor=\"middle\" x=\"519\" y=\"-69.8\" font-family=\"Times New Roman,serif\" font-size=\"14.00\">grad: 0.5000</text>\n</g>\n<!-- 1892271817872&#45;&gt;1892268680208+ -->\n<g id=\"edge12\" class=\"edge\">\n<title>1892271817872&#45;&gt;1892268680208+</title>\n<path fill=\"none\" stroke=\"black\" d=\"M562.3,-90.98C571.62,-92.42 580.51,-93.79 588.5,-95.02\"/>\n<polygon fill=\"black\" stroke=\"black\" points=\"588.02,-98.49 598.43,-96.56 589.08,-91.57 588.02,-98.49\"/>\n</g>\n<!-- 1892271817872* -->\n<g id=\"node8\" class=\"node\">\n<title>1892271817872*</title>\n<ellipse fill=\"none\" stroke=\"black\" cx=\"271\" cy=\"-73.5\" rx=\"27\" ry=\"18\"/>\n<text text-anchor=\"middle\" x=\"271\" y=\"-69.8\" font-family=\"Times New Roman,serif\" font-size=\"14.00\">*</text>\n</g>\n<!-- 1892271817872*&#45;&gt;1892271817872 -->\n<g id=\"edge4\" class=\"edge\">\n<title>1892271817872*&#45;&gt;1892271817872</title>\n<path fill=\"none\" stroke=\"black\" d=\"M298.2,-73.5C305.62,-73.5 314.23,-73.5 323.48,-73.5\"/>\n<polygon fill=\"black\" stroke=\"black\" points=\"323.76,-77 333.76,-73.5 323.76,-70 323.76,-77\"/>\n</g>\n<!-- 1892270732496 -->\n<g id=\"node9\" class=\"node\">\n<title>1892270732496</title>\n<polygon fill=\"none\" stroke=\"black\" points=\"0,-55.5 0,-91.5 208,-91.5 208,-55.5 0,-55.5\"/>\n<text text-anchor=\"middle\" x=\"16.5\" y=\"-69.8\" font-family=\"Times New Roman,serif\" font-size=\"14.00\">w1</text>\n<polyline fill=\"none\" stroke=\"black\" points=\"33,-55.5 33,-91.5 \"/>\n<text text-anchor=\"middle\" x=\"77.5\" y=\"-69.8\" font-family=\"Times New Roman,serif\" font-size=\"14.00\">data: &#45;3.0000</text>\n<polyline fill=\"none\" stroke=\"black\" points=\"122,-55.5 122,-91.5 \"/>\n<text text-anchor=\"middle\" x=\"165\" y=\"-69.8\" font-family=\"Times New Roman,serif\" font-size=\"14.00\">grad: 1.0000</text>\n</g>\n<!-- 1892270732496&#45;&gt;1892271817872* -->\n<g id=\"edge8\" class=\"edge\">\n<title>1892270732496&#45;&gt;1892271817872*</title>\n<path fill=\"none\" stroke=\"black\" d=\"M208.09,-73.5C217.14,-73.5 225.83,-73.5 233.7,-73.5\"/>\n<polygon fill=\"black\" stroke=\"black\" points=\"233.87,-77 243.87,-73.5 233.87,-70 233.87,-77\"/>\n</g>\n<!-- 1892270730960 -->\n<g id=\"node10\" class=\"node\">\n<title>1892270730960</title>\n<polygon fill=\"none\" stroke=\"black\" points=\"2,-0.5 2,-36.5 206,-36.5 206,-0.5 2,-0.5\"/>\n<text text-anchor=\"middle\" x=\"17\" y=\"-14.8\" font-family=\"Times New Roman,serif\" font-size=\"14.00\">x1</text>\n<polyline fill=\"none\" stroke=\"black\" points=\"32,-0.5 32,-36.5 \"/>\n<text text-anchor=\"middle\" x=\"74\" y=\"-14.8\" font-family=\"Times New Roman,serif\" font-size=\"14.00\">data: 2.0000</text>\n<polyline fill=\"none\" stroke=\"black\" points=\"116,-0.5 116,-36.5 \"/>\n<text text-anchor=\"middle\" x=\"161\" y=\"-14.8\" font-family=\"Times New Roman,serif\" font-size=\"14.00\">grad: &#45;1.5000</text>\n</g>\n<!-- 1892270730960&#45;&gt;1892271817872* -->\n<g id=\"edge11\" class=\"edge\">\n<title>1892270730960&#45;&gt;1892271817872*</title>\n<path fill=\"none\" stroke=\"black\" d=\"M176.61,-36.52C187.22,-39.61 197.95,-42.97 208,-46.5 218.3,-50.12 229.3,-54.67 239.13,-59.01\"/>\n<polygon fill=\"black\" stroke=\"black\" points=\"237.95,-62.31 248.5,-63.22 240.82,-55.93 237.95,-62.31\"/>\n</g>\n<!-- 1892271832528 -->\n<g id=\"node11\" class=\"node\">\n<title>1892271832528</title>\n<polygon fill=\"none\" stroke=\"black\" points=\"732,-137.5 732,-173.5 925,-173.5 925,-137.5 732,-137.5\"/>\n<text text-anchor=\"middle\" x=\"743.5\" y=\"-151.8\" font-family=\"Times New Roman,serif\" font-size=\"14.00\">b</text>\n<polyline fill=\"none\" stroke=\"black\" points=\"755,-137.5 755,-173.5 \"/>\n<text text-anchor=\"middle\" x=\"797\" y=\"-151.8\" font-family=\"Times New Roman,serif\" font-size=\"14.00\">data: 6.8814</text>\n<polyline fill=\"none\" stroke=\"black\" points=\"839,-137.5 839,-173.5 \"/>\n<text text-anchor=\"middle\" x=\"882\" y=\"-151.8\" font-family=\"Times New Roman,serif\" font-size=\"14.00\">grad: 0.5000</text>\n</g>\n<!-- 1892271832528&#45;&gt;1892271824912+ -->\n<g id=\"edge10\" class=\"edge\">\n<title>1892271832528&#45;&gt;1892271824912+</title>\n<path fill=\"none\" stroke=\"black\" d=\"M925.23,-142.2C950.2,-138.73 975.57,-135.2 995.2,-132.47\"/>\n<polygon fill=\"black\" stroke=\"black\" points=\"995.78,-135.93 1005.2,-131.09 994.81,-128.99 995.78,-135.93\"/>\n</g>\n<!-- 1892271820624 -->\n<g id=\"node12\" class=\"node\">\n<title>1892271820624</title>\n<polygon fill=\"none\" stroke=\"black\" points=\"2.5,-165.5 2.5,-201.5 205.5,-201.5 205.5,-165.5 2.5,-165.5\"/>\n<text text-anchor=\"middle\" x=\"19\" y=\"-179.8\" font-family=\"Times New Roman,serif\" font-size=\"14.00\">w2</text>\n<polyline fill=\"none\" stroke=\"black\" points=\"35.5,-165.5 35.5,-201.5 \"/>\n<text text-anchor=\"middle\" x=\"77.5\" y=\"-179.8\" font-family=\"Times New Roman,serif\" font-size=\"14.00\">data: 1.0000</text>\n<polyline fill=\"none\" stroke=\"black\" points=\"119.5,-165.5 119.5,-201.5 \"/>\n<text text-anchor=\"middle\" x=\"162.5\" y=\"-179.8\" font-family=\"Times New Roman,serif\" font-size=\"14.00\">grad: 0.0000</text>\n</g>\n<!-- 1892271820624&#45;&gt;1892269829136* -->\n<g id=\"edge13\" class=\"edge\">\n<title>1892271820624&#45;&gt;1892269829136*</title>\n<path fill=\"none\" stroke=\"black\" d=\"M179.99,-165.42C189.49,-162.67 199.03,-159.68 208,-156.5 218.55,-152.77 229.78,-147.96 239.74,-143.39\"/>\n<polygon fill=\"black\" stroke=\"black\" points=\"241.28,-146.54 248.84,-139.12 238.3,-140.2 241.28,-146.54\"/>\n</g>\n<!-- 1892271229328 -->\n<g id=\"node13\" class=\"node\">\n<title>1892271229328</title>\n<polygon fill=\"none\" stroke=\"black\" points=\"1414,-109.5 1414,-145.5 1607,-145.5 1607,-109.5 1414,-109.5\"/>\n<text text-anchor=\"middle\" x=\"1425.5\" y=\"-123.8\" font-family=\"Times New Roman,serif\" font-size=\"14.00\">o</text>\n<polyline fill=\"none\" stroke=\"black\" points=\"1437,-109.5 1437,-145.5 \"/>\n<text text-anchor=\"middle\" x=\"1479\" y=\"-123.8\" font-family=\"Times New Roman,serif\" font-size=\"14.00\">data: 0.7071</text>\n<polyline fill=\"none\" stroke=\"black\" points=\"1521,-109.5 1521,-145.5 \"/>\n<text text-anchor=\"middle\" x=\"1564\" y=\"-123.8\" font-family=\"Times New Roman,serif\" font-size=\"14.00\">grad: 1.0000</text>\n</g>\n<!-- 1892271229328tanh&#45;&gt;1892271229328 -->\n<g id=\"edge5\" class=\"edge\">\n<title>1892271229328tanh&#45;&gt;1892271229328</title>\n<path fill=\"none\" stroke=\"black\" d=\"M1378.01,-127.5C1385.52,-127.5 1394.21,-127.5 1403.47,-127.5\"/>\n<polygon fill=\"black\" stroke=\"black\" points=\"1403.72,-131 1413.72,-127.5 1403.72,-124 1403.72,-131\"/>\n</g>\n<!-- 1892270733776 -->\n<g id=\"node15\" class=\"node\">\n<title>1892270733776</title>\n<polygon fill=\"none\" stroke=\"black\" points=\"4,-110.5 4,-146.5 204,-146.5 204,-110.5 4,-110.5\"/>\n<text text-anchor=\"middle\" x=\"19\" y=\"-124.8\" font-family=\"Times New Roman,serif\" font-size=\"14.00\">x2</text>\n<polyline fill=\"none\" stroke=\"black\" points=\"34,-110.5 34,-146.5 \"/>\n<text text-anchor=\"middle\" x=\"76\" y=\"-124.8\" font-family=\"Times New Roman,serif\" font-size=\"14.00\">data: 0.0000</text>\n<polyline fill=\"none\" stroke=\"black\" points=\"118,-110.5 118,-146.5 \"/>\n<text text-anchor=\"middle\" x=\"161\" y=\"-124.8\" font-family=\"Times New Roman,serif\" font-size=\"14.00\">grad: 0.5000</text>\n</g>\n<!-- 1892270733776&#45;&gt;1892269829136* -->\n<g id=\"edge9\" class=\"edge\">\n<title>1892270733776&#45;&gt;1892269829136*</title>\n<path fill=\"none\" stroke=\"black\" d=\"M204.31,-128.5C214.81,-128.5 224.93,-128.5 233.95,-128.5\"/>\n<polygon fill=\"black\" stroke=\"black\" points=\"233.99,-132 243.99,-128.5 233.99,-125 233.99,-132\"/>\n</g>\n</g>\n</svg>\n",
      "text/plain": [
       "<graphviz.graphs.Digraph at 0x1b89431fa10>"
      ]
     },
     "execution_count": 161,
     "metadata": {},
     "output_type": "execute_result"
    }
   ],
   "execution_count": 161
  },
  {
   "metadata": {},
   "cell_type": "markdown",
   "source": "Now, We manually backpropagate and calculate the gradients",
   "id": "43abe95046120060"
  },
  {
   "metadata": {
    "ExecuteTime": {
     "end_time": "2024-10-02T10:14:58.297631Z",
     "start_time": "2024-10-02T10:14:58.291582Z"
    }
   },
   "cell_type": "code",
   "source": [
    "o.grad = 1\n",
    "# now backpropagation \n",
    "\n",
    "n.grad = 1 - o.data ** 2 # pass through tanh so need to take derivative of that and then compute\n",
    "\n",
    "x1w1x2w2.grad = n.grad # passes through + operator so the constant terms go 0 and we left with grad of current node\n",
    "\n",
    "b.grad = n.grad # passes through + operator so the constant terms go 0 and we left with grad of current node\n",
    "\n",
    "x2w2.grad = x1w1x2w2.grad # passes through + operator so the constant terms go 0 and we left with grad of current node\n",
    "\n",
    "x1w1.grad = x1w1x2w2.grad # passes through + operator so the constant terms go 0 and we left with grad of current node\n",
    "\n",
    "x2.grad = w2.data * x2w2.grad # passes through * operator so the coefficient is multiplied with the current node's grad\n",
    "\n",
    "w2.grad = x2.data * x2w2.grad # passes through * operator so the coefficient is multiplied with the current node's grad\n",
    "\n",
    "x1.grad = w1.data * x1w1.grad # passes through * operator so the coefficient is multiplied with the current node's grad\n",
    "\n",
    "w1.grad = x1.data * x1w1.grad # # passes through * operator so the coefficient is multiplied with the current node's grad\n"
   ],
   "id": "7698758f282323dc",
   "outputs": [],
   "execution_count": 160
  },
  {
   "metadata": {
    "ExecuteTime": {
     "end_time": "2024-10-02T10:07:52.424669Z",
     "start_time": "2024-10-02T10:07:52.421528Z"
    }
   },
   "cell_type": "code",
   "source": [
    "# o = tanh(n)\n",
    "# do/dn = 1 - tanh(n)^2 = 1 - o^2"
   ],
   "id": "76b19b12bbae7cdb",
   "outputs": [],
   "execution_count": 139
  },
  {
   "metadata": {},
   "cell_type": "markdown",
   "source": "All this is too hectic and not feasible in case of a larger network so its essential for us to automate this on creation.",
   "id": "d748de83f94d92a1"
  },
  {
   "metadata": {
    "ExecuteTime": {
     "end_time": "2024-10-02T10:26:54.688591Z",
     "start_time": "2024-10-02T10:26:54.640151Z"
    }
   },
   "cell_type": "code",
   "source": "draw_dot(o)",
   "id": "a2bdd5549d08e18f",
   "outputs": [
    {
     "data": {
      "image/svg+xml": "<?xml version=\"1.0\" encoding=\"UTF-8\" standalone=\"no\"?>\n<!DOCTYPE svg PUBLIC \"-//W3C//DTD SVG 1.1//EN\"\n \"http://www.w3.org/Graphics/SVG/1.1/DTD/svg11.dtd\">\n<!-- Generated by graphviz version 2.50.0 (0)\n -->\n<!-- Pages: 1 -->\n<svg width=\"1615pt\" height=\"210pt\"\n viewBox=\"0.00 0.00 1615.00 210.00\" xmlns=\"http://www.w3.org/2000/svg\" xmlns:xlink=\"http://www.w3.org/1999/xlink\">\n<g id=\"graph0\" class=\"graph\" transform=\"scale(1 1) rotate(0) translate(4 206)\">\n<polygon fill=\"white\" stroke=\"transparent\" points=\"-4,4 -4,-206 1611,-206 1611,4 -4,4\"/>\n<!-- 1892271622160 -->\n<g id=\"node1\" class=\"node\">\n<title>1892271622160</title>\n<polygon fill=\"none\" stroke=\"black\" points=\"1095,-54.5 1095,-90.5 1288,-90.5 1288,-54.5 1095,-54.5\"/>\n<text text-anchor=\"middle\" x=\"1106.5\" y=\"-68.8\" font-family=\"Times New Roman,serif\" font-size=\"14.00\">n</text>\n<polyline fill=\"none\" stroke=\"black\" points=\"1118,-54.5 1118,-90.5 \"/>\n<text text-anchor=\"middle\" x=\"1160\" y=\"-68.8\" font-family=\"Times New Roman,serif\" font-size=\"14.00\">data: 0.8814</text>\n<polyline fill=\"none\" stroke=\"black\" points=\"1202,-54.5 1202,-90.5 \"/>\n<text text-anchor=\"middle\" x=\"1245\" y=\"-68.8\" font-family=\"Times New Roman,serif\" font-size=\"14.00\">grad: 0.5000</text>\n</g>\n<!-- 1892271632016tanh -->\n<g id=\"node7\" class=\"node\">\n<title>1892271632016tanh</title>\n<ellipse fill=\"none\" stroke=\"black\" cx=\"1351\" cy=\"-72.5\" rx=\"27\" ry=\"18\"/>\n<text text-anchor=\"middle\" x=\"1351\" y=\"-68.8\" font-family=\"Times New Roman,serif\" font-size=\"14.00\">tanh</text>\n</g>\n<!-- 1892271622160&#45;&gt;1892271632016tanh -->\n<g id=\"edge10\" class=\"edge\">\n<title>1892271622160&#45;&gt;1892271632016tanh</title>\n<path fill=\"none\" stroke=\"black\" d=\"M1288.2,-72.5C1297.15,-72.5 1305.79,-72.5 1313.63,-72.5\"/>\n<polygon fill=\"black\" stroke=\"black\" points=\"1313.78,-76 1323.78,-72.5 1313.78,-69 1313.78,-76\"/>\n</g>\n<!-- 1892271622160+ -->\n<g id=\"node2\" class=\"node\">\n<title>1892271622160+</title>\n<ellipse fill=\"none\" stroke=\"black\" cx=\"1032\" cy=\"-72.5\" rx=\"27\" ry=\"18\"/>\n<text text-anchor=\"middle\" x=\"1032\" y=\"-68.8\" font-family=\"Times New Roman,serif\" font-size=\"14.00\">+</text>\n</g>\n<!-- 1892271622160+&#45;&gt;1892271622160 -->\n<g id=\"edge1\" class=\"edge\">\n<title>1892271622160+&#45;&gt;1892271622160</title>\n<path fill=\"none\" stroke=\"black\" d=\"M1059.01,-72.5C1066.52,-72.5 1075.21,-72.5 1084.47,-72.5\"/>\n<polygon fill=\"black\" stroke=\"black\" points=\"1084.72,-76 1094.72,-72.5 1084.72,-69 1084.72,-76\"/>\n</g>\n<!-- 1892273246736 -->\n<g id=\"node3\" class=\"node\">\n<title>1892273246736</title>\n<polygon fill=\"none\" stroke=\"black\" points=\"2,-55.5 2,-91.5 206,-91.5 206,-55.5 2,-55.5\"/>\n<text text-anchor=\"middle\" x=\"17\" y=\"-69.8\" font-family=\"Times New Roman,serif\" font-size=\"14.00\">x1</text>\n<polyline fill=\"none\" stroke=\"black\" points=\"32,-55.5 32,-91.5 \"/>\n<text text-anchor=\"middle\" x=\"74\" y=\"-69.8\" font-family=\"Times New Roman,serif\" font-size=\"14.00\">data: 2.0000</text>\n<polyline fill=\"none\" stroke=\"black\" points=\"116,-55.5 116,-91.5 \"/>\n<text text-anchor=\"middle\" x=\"161\" y=\"-69.8\" font-family=\"Times New Roman,serif\" font-size=\"14.00\">grad: &#45;1.5000</text>\n</g>\n<!-- 1892271630096* -->\n<g id=\"node12\" class=\"node\">\n<title>1892271630096*</title>\n<ellipse fill=\"none\" stroke=\"black\" cx=\"271\" cy=\"-73.5\" rx=\"27\" ry=\"18\"/>\n<text text-anchor=\"middle\" x=\"271\" y=\"-69.8\" font-family=\"Times New Roman,serif\" font-size=\"14.00\">*</text>\n</g>\n<!-- 1892273246736&#45;&gt;1892271630096* -->\n<g id=\"edge12\" class=\"edge\">\n<title>1892273246736&#45;&gt;1892271630096*</title>\n<path fill=\"none\" stroke=\"black\" d=\"M206.21,-73.5C215.96,-73.5 225.35,-73.5 233.78,-73.5\"/>\n<polygon fill=\"black\" stroke=\"black\" points=\"233.91,-77 243.91,-73.5 233.91,-70 233.91,-77\"/>\n</g>\n<!-- 1892271628304 -->\n<g id=\"node4\" class=\"node\">\n<title>1892271628304</title>\n<polygon fill=\"none\" stroke=\"black\" points=\"336.5,-110.5 336.5,-146.5 559.5,-146.5 559.5,-110.5 336.5,-110.5\"/>\n<text text-anchor=\"middle\" x=\"363\" y=\"-124.8\" font-family=\"Times New Roman,serif\" font-size=\"14.00\">x2*w2</text>\n<polyline fill=\"none\" stroke=\"black\" points=\"389.5,-110.5 389.5,-146.5 \"/>\n<text text-anchor=\"middle\" x=\"431.5\" y=\"-124.8\" font-family=\"Times New Roman,serif\" font-size=\"14.00\">data: 0.0000</text>\n<polyline fill=\"none\" stroke=\"black\" points=\"473.5,-110.5 473.5,-146.5 \"/>\n<text text-anchor=\"middle\" x=\"516.5\" y=\"-124.8\" font-family=\"Times New Roman,serif\" font-size=\"14.00\">grad: 0.5000</text>\n</g>\n<!-- 1892271631568+ -->\n<g id=\"node9\" class=\"node\">\n<title>1892271631568+</title>\n<ellipse fill=\"none\" stroke=\"black\" cx=\"625\" cy=\"-100.5\" rx=\"27\" ry=\"18\"/>\n<text text-anchor=\"middle\" x=\"625\" y=\"-96.8\" font-family=\"Times New Roman,serif\" font-size=\"14.00\">+</text>\n</g>\n<!-- 1892271628304&#45;&gt;1892271631568+ -->\n<g id=\"edge7\" class=\"edge\">\n<title>1892271628304&#45;&gt;1892271631568+</title>\n<path fill=\"none\" stroke=\"black\" d=\"M559.83,-110.77C570.05,-109.13 579.82,-107.57 588.51,-106.18\"/>\n<polygon fill=\"black\" stroke=\"black\" points=\"589.21,-109.61 598.54,-104.57 588.11,-102.7 589.21,-109.61\"/>\n</g>\n<!-- 1892271628304* -->\n<g id=\"node5\" class=\"node\">\n<title>1892271628304*</title>\n<ellipse fill=\"none\" stroke=\"black\" cx=\"271\" cy=\"-128.5\" rx=\"27\" ry=\"18\"/>\n<text text-anchor=\"middle\" x=\"271\" y=\"-124.8\" font-family=\"Times New Roman,serif\" font-size=\"14.00\">*</text>\n</g>\n<!-- 1892271628304*&#45;&gt;1892271628304 -->\n<g id=\"edge2\" class=\"edge\">\n<title>1892271628304*&#45;&gt;1892271628304</title>\n<path fill=\"none\" stroke=\"black\" d=\"M298.2,-128.5C306.36,-128.5 315.96,-128.5 326.28,-128.5\"/>\n<polygon fill=\"black\" stroke=\"black\" points=\"326.37,-132 336.37,-128.5 326.37,-125 326.37,-132\"/>\n</g>\n<!-- 1892271632016 -->\n<g id=\"node6\" class=\"node\">\n<title>1892271632016</title>\n<polygon fill=\"none\" stroke=\"black\" points=\"1414,-54.5 1414,-90.5 1607,-90.5 1607,-54.5 1414,-54.5\"/>\n<text text-anchor=\"middle\" x=\"1425.5\" y=\"-68.8\" font-family=\"Times New Roman,serif\" font-size=\"14.00\">o</text>\n<polyline fill=\"none\" stroke=\"black\" points=\"1437,-54.5 1437,-90.5 \"/>\n<text text-anchor=\"middle\" x=\"1479\" y=\"-68.8\" font-family=\"Times New Roman,serif\" font-size=\"14.00\">data: 0.7071</text>\n<polyline fill=\"none\" stroke=\"black\" points=\"1521,-54.5 1521,-90.5 \"/>\n<text text-anchor=\"middle\" x=\"1564\" y=\"-68.8\" font-family=\"Times New Roman,serif\" font-size=\"14.00\">grad: 1.0000</text>\n</g>\n<!-- 1892271632016tanh&#45;&gt;1892271632016 -->\n<g id=\"edge3\" class=\"edge\">\n<title>1892271632016tanh&#45;&gt;1892271632016</title>\n<path fill=\"none\" stroke=\"black\" d=\"M1378.01,-72.5C1385.52,-72.5 1394.21,-72.5 1403.47,-72.5\"/>\n<polygon fill=\"black\" stroke=\"black\" points=\"1403.72,-76 1413.72,-72.5 1403.72,-69 1403.72,-76\"/>\n</g>\n<!-- 1892271631568 -->\n<g id=\"node8\" class=\"node\">\n<title>1892271631568</title>\n<polygon fill=\"none\" stroke=\"black\" points=\"688,-82.5 688,-118.5 969,-118.5 969,-82.5 688,-82.5\"/>\n<text text-anchor=\"middle\" x=\"741\" y=\"-96.8\" font-family=\"Times New Roman,serif\" font-size=\"14.00\">x1*w1 + x2*w2</text>\n<polyline fill=\"none\" stroke=\"black\" points=\"794,-82.5 794,-118.5 \"/>\n<text text-anchor=\"middle\" x=\"838.5\" y=\"-96.8\" font-family=\"Times New Roman,serif\" font-size=\"14.00\">data: &#45;6.0000</text>\n<polyline fill=\"none\" stroke=\"black\" points=\"883,-82.5 883,-118.5 \"/>\n<text text-anchor=\"middle\" x=\"926\" y=\"-96.8\" font-family=\"Times New Roman,serif\" font-size=\"14.00\">grad: 0.5000</text>\n</g>\n<!-- 1892271631568&#45;&gt;1892271622160+ -->\n<g id=\"edge13\" class=\"edge\">\n<title>1892271631568&#45;&gt;1892271622160+</title>\n<path fill=\"none\" stroke=\"black\" d=\"M959.11,-82.49C972.17,-80.67 984.53,-78.96 995.19,-77.48\"/>\n<polygon fill=\"black\" stroke=\"black\" points=\"995.83,-80.92 1005.26,-76.08 994.87,-73.99 995.83,-80.92\"/>\n</g>\n<!-- 1892271631568+&#45;&gt;1892271631568 -->\n<g id=\"edge4\" class=\"edge\">\n<title>1892271631568+&#45;&gt;1892271631568</title>\n<path fill=\"none\" stroke=\"black\" d=\"M652.34,-100.5C659.79,-100.5 668.45,-100.5 677.87,-100.5\"/>\n<polygon fill=\"black\" stroke=\"black\" points=\"677.94,-104 687.94,-100.5 677.94,-97 677.94,-104\"/>\n</g>\n<!-- 1892273255632 -->\n<g id=\"node10\" class=\"node\">\n<title>1892273255632</title>\n<polygon fill=\"none\" stroke=\"black\" points=\"732,-27.5 732,-63.5 925,-63.5 925,-27.5 732,-27.5\"/>\n<text text-anchor=\"middle\" x=\"743.5\" y=\"-41.8\" font-family=\"Times New Roman,serif\" font-size=\"14.00\">b</text>\n<polyline fill=\"none\" stroke=\"black\" points=\"755,-27.5 755,-63.5 \"/>\n<text text-anchor=\"middle\" x=\"797\" y=\"-41.8\" font-family=\"Times New Roman,serif\" font-size=\"14.00\">data: 6.8814</text>\n<polyline fill=\"none\" stroke=\"black\" points=\"839,-27.5 839,-63.5 \"/>\n<text text-anchor=\"middle\" x=\"882\" y=\"-41.8\" font-family=\"Times New Roman,serif\" font-size=\"14.00\">grad: 0.5000</text>\n</g>\n<!-- 1892273255632&#45;&gt;1892271622160+ -->\n<g id=\"edge9\" class=\"edge\">\n<title>1892273255632&#45;&gt;1892271622160+</title>\n<path fill=\"none\" stroke=\"black\" d=\"M925.23,-58.33C950.2,-61.67 975.57,-65.07 995.2,-67.7\"/>\n<polygon fill=\"black\" stroke=\"black\" points=\"994.82,-71.18 1005.2,-69.04 995.75,-64.25 994.82,-71.18\"/>\n</g>\n<!-- 1892271630096 -->\n<g id=\"node11\" class=\"node\">\n<title>1892271630096</title>\n<polygon fill=\"none\" stroke=\"black\" points=\"334,-55.5 334,-91.5 562,-91.5 562,-55.5 334,-55.5\"/>\n<text text-anchor=\"middle\" x=\"360.5\" y=\"-69.8\" font-family=\"Times New Roman,serif\" font-size=\"14.00\">x1*w1</text>\n<polyline fill=\"none\" stroke=\"black\" points=\"387,-55.5 387,-91.5 \"/>\n<text text-anchor=\"middle\" x=\"431.5\" y=\"-69.8\" font-family=\"Times New Roman,serif\" font-size=\"14.00\">data: &#45;6.0000</text>\n<polyline fill=\"none\" stroke=\"black\" points=\"476,-55.5 476,-91.5 \"/>\n<text text-anchor=\"middle\" x=\"519\" y=\"-69.8\" font-family=\"Times New Roman,serif\" font-size=\"14.00\">grad: 0.5000</text>\n</g>\n<!-- 1892271630096&#45;&gt;1892271631568+ -->\n<g id=\"edge11\" class=\"edge\">\n<title>1892271630096&#45;&gt;1892271631568+</title>\n<path fill=\"none\" stroke=\"black\" d=\"M562.3,-90.98C571.62,-92.42 580.51,-93.79 588.5,-95.02\"/>\n<polygon fill=\"black\" stroke=\"black\" points=\"588.02,-98.49 598.43,-96.56 589.08,-91.57 588.02,-98.49\"/>\n</g>\n<!-- 1892271630096*&#45;&gt;1892271630096 -->\n<g id=\"edge5\" class=\"edge\">\n<title>1892271630096*&#45;&gt;1892271630096</title>\n<path fill=\"none\" stroke=\"black\" d=\"M298.2,-73.5C305.62,-73.5 314.23,-73.5 323.48,-73.5\"/>\n<polygon fill=\"black\" stroke=\"black\" points=\"323.76,-77 333.76,-73.5 323.76,-70 323.76,-77\"/>\n</g>\n<!-- 1892273248016 -->\n<g id=\"node13\" class=\"node\">\n<title>1892273248016</title>\n<polygon fill=\"none\" stroke=\"black\" points=\"4,-165.5 4,-201.5 204,-201.5 204,-165.5 4,-165.5\"/>\n<text text-anchor=\"middle\" x=\"19\" y=\"-179.8\" font-family=\"Times New Roman,serif\" font-size=\"14.00\">x2</text>\n<polyline fill=\"none\" stroke=\"black\" points=\"34,-165.5 34,-201.5 \"/>\n<text text-anchor=\"middle\" x=\"76\" y=\"-179.8\" font-family=\"Times New Roman,serif\" font-size=\"14.00\">data: 0.0000</text>\n<polyline fill=\"none\" stroke=\"black\" points=\"118,-165.5 118,-201.5 \"/>\n<text text-anchor=\"middle\" x=\"161\" y=\"-179.8\" font-family=\"Times New Roman,serif\" font-size=\"14.00\">grad: 0.5000</text>\n</g>\n<!-- 1892273248016&#45;&gt;1892271628304* -->\n<g id=\"edge8\" class=\"edge\">\n<title>1892273248016&#45;&gt;1892271628304*</title>\n<path fill=\"none\" stroke=\"black\" d=\"M179.99,-165.42C189.49,-162.67 199.03,-159.68 208,-156.5 218.55,-152.77 229.78,-147.96 239.74,-143.39\"/>\n<polygon fill=\"black\" stroke=\"black\" points=\"241.28,-146.54 248.84,-139.12 238.3,-140.2 241.28,-146.54\"/>\n</g>\n<!-- 1892273242384 -->\n<g id=\"node14\" class=\"node\">\n<title>1892273242384</title>\n<polygon fill=\"none\" stroke=\"black\" points=\"2.5,-110.5 2.5,-146.5 205.5,-146.5 205.5,-110.5 2.5,-110.5\"/>\n<text text-anchor=\"middle\" x=\"19\" y=\"-124.8\" font-family=\"Times New Roman,serif\" font-size=\"14.00\">w2</text>\n<polyline fill=\"none\" stroke=\"black\" points=\"35.5,-110.5 35.5,-146.5 \"/>\n<text text-anchor=\"middle\" x=\"77.5\" y=\"-124.8\" font-family=\"Times New Roman,serif\" font-size=\"14.00\">data: 1.0000</text>\n<polyline fill=\"none\" stroke=\"black\" points=\"119.5,-110.5 119.5,-146.5 \"/>\n<text text-anchor=\"middle\" x=\"162.5\" y=\"-124.8\" font-family=\"Times New Roman,serif\" font-size=\"14.00\">grad: 0.0000</text>\n</g>\n<!-- 1892273242384&#45;&gt;1892271628304* -->\n<g id=\"edge6\" class=\"edge\">\n<title>1892273242384&#45;&gt;1892271628304*</title>\n<path fill=\"none\" stroke=\"black\" d=\"M205.73,-128.5C215.55,-128.5 225,-128.5 233.49,-128.5\"/>\n<polygon fill=\"black\" stroke=\"black\" points=\"233.7,-132 243.7,-128.5 233.7,-125 233.7,-132\"/>\n</g>\n<!-- 1892270420816 -->\n<g id=\"node15\" class=\"node\">\n<title>1892270420816</title>\n<polygon fill=\"none\" stroke=\"black\" points=\"0,-0.5 0,-36.5 208,-36.5 208,-0.5 0,-0.5\"/>\n<text text-anchor=\"middle\" x=\"16.5\" y=\"-14.8\" font-family=\"Times New Roman,serif\" font-size=\"14.00\">w1</text>\n<polyline fill=\"none\" stroke=\"black\" points=\"33,-0.5 33,-36.5 \"/>\n<text text-anchor=\"middle\" x=\"77.5\" y=\"-14.8\" font-family=\"Times New Roman,serif\" font-size=\"14.00\">data: &#45;3.0000</text>\n<polyline fill=\"none\" stroke=\"black\" points=\"122,-0.5 122,-36.5 \"/>\n<text text-anchor=\"middle\" x=\"165\" y=\"-14.8\" font-family=\"Times New Roman,serif\" font-size=\"14.00\">grad: 1.0000</text>\n</g>\n<!-- 1892270420816&#45;&gt;1892271630096* -->\n<g id=\"edge14\" class=\"edge\">\n<title>1892270420816&#45;&gt;1892271630096*</title>\n<path fill=\"none\" stroke=\"black\" d=\"M179.99,-36.58C189.49,-39.33 199.03,-42.32 208,-45.5 218.55,-49.23 229.78,-54.04 239.74,-58.61\"/>\n<polygon fill=\"black\" stroke=\"black\" points=\"238.3,-61.8 248.84,-62.88 241.28,-55.46 238.3,-61.8\"/>\n</g>\n</g>\n</svg>\n",
      "text/plain": [
       "<graphviz.graphs.Digraph at 0x1b8942720d0>"
      ]
     },
     "execution_count": 212,
     "metadata": {},
     "output_type": "execute_result"
    }
   ],
   "execution_count": 212
  },
  {
   "metadata": {
    "ExecuteTime": {
     "end_time": "2024-10-02T10:26:49.486962Z",
     "start_time": "2024-10-02T10:26:49.484068Z"
    }
   },
   "cell_type": "code",
   "source": "o.grad = 1.0 #initialize the base case",
   "id": "d8f25683ea97005d",
   "outputs": [],
   "execution_count": 207
  },
  {
   "metadata": {
    "ExecuteTime": {
     "end_time": "2024-10-02T10:26:50.091380Z",
     "start_time": "2024-10-02T10:26:50.087314Z"
    }
   },
   "cell_type": "code",
   "source": [
    "# now backtrack and call  _backward function to get gradient of prev node, maintain the order (essential)\n",
    "o._backward()"
   ],
   "id": "6b603a300018c9ea",
   "outputs": [],
   "execution_count": 208
  },
  {
   "metadata": {
    "ExecuteTime": {
     "end_time": "2024-10-02T10:26:50.627729Z",
     "start_time": "2024-10-02T10:26:50.624453Z"
    }
   },
   "cell_type": "code",
   "source": "n._backward()",
   "id": "4c66ae76b10f335c",
   "outputs": [],
   "execution_count": 209
  },
  {
   "metadata": {
    "ExecuteTime": {
     "end_time": "2024-10-02T10:26:51.145225Z",
     "start_time": "2024-10-02T10:26:51.141984Z"
    }
   },
   "cell_type": "code",
   "source": "x1w1x2w2._backward()",
   "id": "2bb70b1a5a3ad098",
   "outputs": [],
   "execution_count": 210
  },
  {
   "metadata": {
    "ExecuteTime": {
     "end_time": "2024-10-02T10:26:51.735712Z",
     "start_time": "2024-10-02T10:26:51.731922Z"
    }
   },
   "cell_type": "code",
   "source": [
    "x2w2._backward()\n",
    "x1w1._backward()"
   ],
   "id": "c447b8d624f119f4",
   "outputs": [],
   "execution_count": 211
  },
  {
   "metadata": {},
   "cell_type": "markdown",
   "source": [
    "This is better since we dont have to manually calculate the gradient, it does that itself.\n",
    "but a limitation for this is if we have a large number of nodes, calling _backward method manually will be really time consuming.\n",
    "so lets try and automate the backward function"
   ],
   "id": "4fb572941cf44a06"
  },
  {
   "metadata": {},
   "cell_type": "markdown",
   "source": [
    "#### We would want a sorting of the nodes in a way they point in a single direction, ideally left to right.\n",
    "#### We would want to call backward on a node only when it has been called on all the nodes on its right that are its dependencies"
   ],
   "id": "4facacbdc67e10a0"
  },
  {
   "metadata": {
    "ExecuteTime": {
     "end_time": "2024-10-02T10:29:52.603383Z",
     "start_time": "2024-10-02T10:29:52.599802Z"
    }
   },
   "cell_type": "code",
   "source": "",
   "id": "4689d11857ac68e4",
   "outputs": [],
   "execution_count": 213
  },
  {
   "metadata": {},
   "cell_type": "code",
   "outputs": [],
   "execution_count": null,
   "source": "",
   "id": "d09fcdcc9213c60a"
  }
 ],
 "metadata": {
  "kernelspec": {
   "display_name": "Python 3",
   "language": "python",
   "name": "python3"
  },
  "language_info": {
   "codemirror_mode": {
    "name": "ipython",
    "version": 2
   },
   "file_extension": ".py",
   "mimetype": "text/x-python",
   "name": "python",
   "nbconvert_exporter": "python",
   "pygments_lexer": "ipython2",
   "version": "2.7.6"
  }
 },
 "nbformat": 4,
 "nbformat_minor": 5
}
