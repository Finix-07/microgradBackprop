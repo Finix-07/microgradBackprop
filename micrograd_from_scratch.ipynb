{
 "cells": [
  {
   "metadata": {
    "ExecuteTime": {
     "end_time": "2024-10-02T14:02:26.378949Z",
     "start_time": "2024-10-02T14:02:26.374257Z"
    }
   },
   "cell_type": "code",
   "source": [
    "import  math\n",
    "import numpy as np\n",
    "import matplotlib.pyplot as plt\n",
    "from anyio.abc import value\n",
    "%matplotlib inline"
   ],
   "id": "fbc121e30a2defb3",
   "outputs": [],
   "execution_count": 62
  },
  {
   "metadata": {
    "ExecuteTime": {
     "end_time": "2024-10-02T14:02:26.416570Z",
     "start_time": "2024-10-02T14:02:26.413504Z"
    }
   },
   "cell_type": "code",
   "source": [
    "def f(x):\n",
    "    return 3*x**2 - 4*x + 5"
   ],
   "id": "c66ef7eacfaf6a29",
   "outputs": [],
   "execution_count": 63
  },
  {
   "metadata": {
    "ExecuteTime": {
     "end_time": "2024-10-02T14:02:26.435321Z",
     "start_time": "2024-10-02T14:02:26.430798Z"
    }
   },
   "cell_type": "code",
   "source": "f(3.0)",
   "id": "6d98cbde91a7b4a4",
   "outputs": [
    {
     "data": {
      "text/plain": [
       "20.0"
      ]
     },
     "execution_count": 64,
     "metadata": {},
     "output_type": "execute_result"
    }
   ],
   "execution_count": 64
  },
  {
   "metadata": {
    "ExecuteTime": {
     "end_time": "2024-10-02T14:02:26.508746Z",
     "start_time": "2024-10-02T14:02:26.470887Z"
    }
   },
   "cell_type": "code",
   "source": [
    "xs = np.arange(-5 , 5 , 0.25) # this generates us an array with numbers from -5 to 5 with step value of 0.25\n",
    "ys = f(xs)                      # this will give an array that as each entry as the function applied on it\n",
    "plt.plot(xs, ys)"
   ],
   "id": "ed66ddec9416e98f",
   "outputs": [
    {
     "data": {
      "text/plain": [
       "[<matplotlib.lines.Line2D at 0x22e376e84d0>]"
      ]
     },
     "execution_count": 65,
     "metadata": {},
     "output_type": "execute_result"
    }
   ],
   "execution_count": 65
  },
  {
   "metadata": {},
   "cell_type": "markdown",
   "source": [
    " Now we wanna know the derivatives at a certain point x.\n",
    " \n",
    "now, like the last one where we manually derived the derivatives needed for backpropagation it was really time consuming and not at all viable for a larger nn. So to tackle this we would need to come up with a better approach.\n"
   ],
   "id": "ef3adf85af231970"
  },
  {
   "metadata": {},
   "cell_type": "markdown",
   "source": "what derivative really is that it tells us what happens if we slightly bump up our x by h, what sensitivity it responds with.\n",
   "id": "9ea9fcf5b9e0ef2f"
  },
  {
   "metadata": {
    "ExecuteTime": {
     "end_time": "2024-10-02T14:02:26.526302Z",
     "start_time": "2024-10-02T14:02:26.522024Z"
    }
   },
   "cell_type": "code",
   "source": [
    "h = 0.000001\n",
    "x = 2/3\n",
    "(f(x+h) - f (x)) / h"
   ],
   "id": "be292972b200a916",
   "outputs": [
    {
     "data": {
      "text/plain": [
       "2.999378523327323e-06"
      ]
     },
     "execution_count": 66,
     "metadata": {},
     "output_type": "execute_result"
    }
   ],
   "execution_count": 66
  },
  {
   "metadata": {
    "ExecuteTime": {
     "end_time": "2024-10-02T14:02:26.573136Z",
     "start_time": "2024-10-02T14:02:26.568122Z"
    }
   },
   "cell_type": "code",
   "source": [
    "h = 0.0001\n",
    "\n",
    "# Inputs..\n",
    "a = 2.0\n",
    "b = -3.0\n",
    "c = 10.0\n",
    "\n",
    "d1 = a*b + c\n",
    "# getting derivative wrt to a\n",
    "a += h\n",
    "d2 = a*b + c\n",
    "print(f\"d1: {d1}\")\n",
    "print(f\"d2: {d2}\")\n",
    "print(f\"Slope: {(d1-d2)/h}\")"
   ],
   "id": "430f5fefcd50830a",
   "outputs": [
    {
     "name": "stdout",
     "output_type": "stream",
     "text": [
      "d1: 4.0\n",
      "d2: 3.999699999999999\n",
      "Slope: 3.000000000010772\n"
     ]
    }
   ],
   "execution_count": 67
  },
  {
   "metadata": {
    "ExecuteTime": {
     "end_time": "2024-10-02T14:23:06.232331Z",
     "start_time": "2024-10-02T14:23:06.221325Z"
    }
   },
   "cell_type": "code",
   "source": [
    "class Value():\n",
    "    def __init__(self, data, _children = (), _op = '', label = ''):\n",
    "        self.data = data\n",
    "        self._prev = set(_children)\n",
    "        self._op = _op\n",
    "        self._backward = lambda : None\n",
    "        self.label = label\n",
    "        self.grad = 0.0 # this means initially it is not affected by anything\n",
    "        \n",
    "    def __repr__(self):\n",
    "        return f\"Value(data={self.data})\"\n",
    "    \n",
    "    def __add__(self, other):\n",
    "        other = other if isinstance(other, Value) else Value(other)\n",
    "        out = Value(self.data + other.data, (self,other),'+')\n",
    "        def _backward():\n",
    "            self.grad += out.grad * 1.0\n",
    "            other.grad += out.grad * 1.0\n",
    "            \n",
    "        out._backward = _backward\n",
    "            \n",
    "        return out\n",
    "    \n",
    "    def __mul__(self, other):\n",
    "        other = other if isinstance(other, Value) else Value(other)\n",
    "        out = Value(self.data * other.data,(self,other), '*')\n",
    "        def _backward():\n",
    "            self.grad += other.data * out.grad\n",
    "            other.grad += self.data * out.grad\n",
    "            \n",
    "        out._backward = _backward\n",
    "            \n",
    "        return out \n",
    "    \n",
    "    def __pow__(self, other):\n",
    "        assert isinstance(other, (int, float)), \"only supporting int/floats\"\n",
    "        out = Value(self.data**other,(self,other),f'**{other}')\n",
    "        \n",
    "        def _backward():\n",
    "            self.grad += (other * (self.data ** (other - 1))) * out.grad\n",
    "            \n",
    "        out._backward = _backward\n",
    "        return out\n",
    "    \n",
    "    def __rmul__(self, other):\n",
    "        return other * self\n",
    "    \n",
    "    def __truediv__(self, other):\n",
    "        return self * (other ** -1)\n",
    "    \n",
    "    def __neg__(self):\n",
    "        return self * -1.0\n",
    "    \n",
    "    def __sub__(self, other):\n",
    "        other = other if isinstance(other, Value) else Value(other)\n",
    "        return self + (-other)\n",
    "    \n",
    "    def tanh(self): #purpose of this is to act as an activation function for our neurons output\n",
    "        x = self.data\n",
    "        o = (math.exp(2*x) - 1) / (math.exp(2*x) + 1)\n",
    "        out = Value(o, (self, ), 'tanh')\n",
    "        \n",
    "        def _backward():\n",
    "            self.grad += (1 - o**2) * out.grad\n",
    "        \n",
    "        out._backward = _backward\n",
    "        return out\n",
    "    \n",
    "    def exp(self):\n",
    "        x = self.data\n",
    "        o = math.exp(x)\n",
    "        out = Value(o, (self, ), 'exp')\n",
    "        \n",
    "        def _backward():\n",
    "            self.grad += out.data * out.grad\n",
    "        \n",
    "        out._backward = _backward        \n",
    "        return out\n",
    "            \n",
    "        \n",
    "        \n",
    "    def backward(self):\n",
    "        topo = []\n",
    "        visited = set()\n",
    "        \n",
    "        def build_topo(v):\n",
    "            if v not in visited:\n",
    "                visited.add(v)\n",
    "                for child in v._prev:\n",
    "                    build_topo(child)\n",
    "                    \n",
    "                topo.append(v)\n",
    "        build_topo(self)\n",
    "\n",
    "        self.grad = 1.0\n",
    "\n",
    "        for node in reversed(topo):\n",
    "            node._backward()\n",
    "        \n"
   ],
   "id": "bb7992a857e1a939",
   "outputs": [],
   "execution_count": 99
  },
  {
   "metadata": {
    "ExecuteTime": {
     "end_time": "2024-10-02T14:23:17.698788Z",
     "start_time": "2024-10-02T14:23:17.685094Z"
    }
   },
   "cell_type": "code",
   "source": [
    "a = Value(2.0)\n",
    "b = 4\n",
    "b - a"
   ],
   "id": "84b8cad9c9c8259c",
   "outputs": [
    {
     "ename": "TypeError",
     "evalue": "unsupported operand type(s) for -: 'int' and 'Value'",
     "output_type": "error",
     "traceback": [
      "\u001B[1;31m---------------------------------------------------------------------------\u001B[0m",
      "\u001B[1;31mTypeError\u001B[0m                                 Traceback (most recent call last)",
      "Cell \u001B[1;32mIn[101], line 3\u001B[0m\n\u001B[0;32m      1\u001B[0m a \u001B[38;5;241m=\u001B[39m Value(\u001B[38;5;241m2.0\u001B[39m)\n\u001B[0;32m      2\u001B[0m b \u001B[38;5;241m=\u001B[39m \u001B[38;5;241m4\u001B[39m\n\u001B[1;32m----> 3\u001B[0m b \u001B[38;5;241m-\u001B[39m a\n",
      "\u001B[1;31mTypeError\u001B[0m: unsupported operand type(s) for -: 'int' and 'Value'"
     ]
    }
   ],
   "execution_count": 101
  },
  {
   "metadata": {},
   "cell_type": "markdown",
   "source": "### Lets Import a library to draw a flowchart of the tree representation of dependencies of the variable\n",
   "id": "c57e99666adc883f"
  },
  {
   "metadata": {
    "ExecuteTime": {
     "end_time": "2024-10-02T14:02:26.749787Z",
     "start_time": "2024-10-02T14:02:26.742058Z"
    }
   },
   "cell_type": "code",
   "source": [
    "from graphviz import Digraph\n",
    "\n",
    "def trace(root):\n",
    "  # builds a set of all nodes and edges in a graph\n",
    "  nodes, edges = set(), set() # make a set to store all nodes and edges\n",
    "  def build(v):\n",
    "    if v not in nodes: # if node not currently found we add it\n",
    "      nodes.add(v)\n",
    "      for child in v._prev: # recursively backtrack looking for nodes that make up the current node\n",
    "        edges.add((child, v))\n",
    "        build(child) # now apply this on the childs\n",
    "  build(root)  # apply it to solo nodes\n",
    "  return nodes, edges\n",
    "\n",
    "def draw_dot(root):\n",
    "  dot = Digraph(format='svg', graph_attr={'rankdir': 'LR'}) # LR = left to right\n",
    "  # define the formatting of the nodes and graph\n",
    "  nodes, edges = trace(root)\n",
    "  for n in nodes:\n",
    "    uid = str(id(n)) # iterate over all nodes and then give them a unique id for representating it\n",
    "    # for any value in the graph, create a rectangular ('record') node for it\n",
    "    dot.node(name = uid, label = \"{ %s | data: %.4f | grad: %.4f}\" % (n.label, n.data, n.grad), shape='record')\n",
    "    if n._op:\n",
    "      # if this value is a result of some operation, create an op node for it\n",
    "      dot.node(name = uid + n._op, label = n._op)\n",
    "      # and connect this node to it\n",
    "      dot.edge(uid + n._op, uid)\n",
    "\n",
    "  for n1, n2 in edges:\n",
    "    # connect n1 to the op node of n2\n",
    "    dot.edge(str(id(n1)), str(id(n2)) + n2._op)\n",
    "\n",
    "  return dot"
   ],
   "id": "3fb59245e2d0d34e",
   "outputs": [],
   "execution_count": 71
  },
  {
   "metadata": {
    "ExecuteTime": {
     "end_time": "2024-10-02T14:02:26.814084Z",
     "start_time": "2024-10-02T14:02:26.755318Z"
    }
   },
   "cell_type": "code",
   "source": "draw_dot(L)",
   "id": "bec4e9ee78593f51",
   "outputs": [
    {
     "data": {
      "image/svg+xml": "<?xml version=\"1.0\" encoding=\"UTF-8\" standalone=\"no\"?>\n<!DOCTYPE svg PUBLIC \"-//W3C//DTD SVG 1.1//EN\"\n \"http://www.w3.org/Graphics/SVG/1.1/DTD/svg11.dtd\">\n<!-- Generated by graphviz version 2.50.0 (0)\n -->\n<!-- Pages: 1 -->\n<svg width=\"1180pt\" height=\"156pt\"\n viewBox=\"0.00 0.00 1180.00 156.00\" xmlns=\"http://www.w3.org/2000/svg\" xmlns:xlink=\"http://www.w3.org/1999/xlink\">\n<g id=\"graph0\" class=\"graph\" transform=\"scale(1 1) rotate(0) translate(4 152)\">\n<polygon fill=\"white\" stroke=\"transparent\" points=\"-4,4 -4,-152 1176,-152 1176,4 -4,4\"/>\n<!-- 2397520729616 -->\n<g id=\"node1\" class=\"node\">\n<title>2397520729616</title>\n<polygon fill=\"none\" stroke=\"black\" points=\"0,-111.5 0,-147.5 198,-147.5 198,-111.5 0,-111.5\"/>\n<text text-anchor=\"middle\" x=\"11.5\" y=\"-125.8\" font-family=\"Times New Roman,serif\" font-size=\"14.00\">b</text>\n<polyline fill=\"none\" stroke=\"black\" points=\"23,-111.5 23,-147.5 \"/>\n<text text-anchor=\"middle\" x=\"67.5\" y=\"-125.8\" font-family=\"Times New Roman,serif\" font-size=\"14.00\">data: &#45;3.0000</text>\n<polyline fill=\"none\" stroke=\"black\" points=\"112,-111.5 112,-147.5 \"/>\n<text text-anchor=\"middle\" x=\"155\" y=\"-125.8\" font-family=\"Times New Roman,serif\" font-size=\"14.00\">grad: 0.0000</text>\n</g>\n<!-- 2397521095760* -->\n<g id=\"node4\" class=\"node\">\n<title>2397521095760*</title>\n<ellipse fill=\"none\" stroke=\"black\" cx=\"261\" cy=\"-101.5\" rx=\"27\" ry=\"18\"/>\n<text text-anchor=\"middle\" x=\"261\" y=\"-97.8\" font-family=\"Times New Roman,serif\" font-size=\"14.00\">*</text>\n</g>\n<!-- 2397520729616&#45;&gt;2397521095760* -->\n<g id=\"edge9\" class=\"edge\">\n<title>2397520729616&#45;&gt;2397521095760*</title>\n<path fill=\"none\" stroke=\"black\" d=\"M198.14,-112.33C207.5,-110.69 216.5,-109.11 224.61,-107.69\"/>\n<polygon fill=\"black\" stroke=\"black\" points=\"225.46,-111.1 234.7,-105.93 224.25,-104.2 225.46,-111.1\"/>\n</g>\n<!-- 2397541003344 -->\n<g id=\"node2\" class=\"node\">\n<title>2397541003344</title>\n<polygon fill=\"none\" stroke=\"black\" points=\"650,-0.5 650,-36.5 846,-36.5 846,-0.5 650,-0.5\"/>\n<text text-anchor=\"middle\" x=\"660.5\" y=\"-14.8\" font-family=\"Times New Roman,serif\" font-size=\"14.00\">f</text>\n<polyline fill=\"none\" stroke=\"black\" points=\"671,-0.5 671,-36.5 \"/>\n<text text-anchor=\"middle\" x=\"715.5\" y=\"-14.8\" font-family=\"Times New Roman,serif\" font-size=\"14.00\">data: &#45;2.0000</text>\n<polyline fill=\"none\" stroke=\"black\" points=\"760,-0.5 760,-36.5 \"/>\n<text text-anchor=\"middle\" x=\"803\" y=\"-14.8\" font-family=\"Times New Roman,serif\" font-size=\"14.00\">grad: 0.0000</text>\n</g>\n<!-- 2397521019856* -->\n<g id=\"node6\" class=\"node\">\n<title>2397521019856*</title>\n<ellipse fill=\"none\" stroke=\"black\" cx=\"909\" cy=\"-45.5\" rx=\"27\" ry=\"18\"/>\n<text text-anchor=\"middle\" x=\"909\" y=\"-41.8\" font-family=\"Times New Roman,serif\" font-size=\"14.00\">*</text>\n</g>\n<!-- 2397541003344&#45;&gt;2397521019856* -->\n<g id=\"edge4\" class=\"edge\">\n<title>2397541003344&#45;&gt;2397521019856*</title>\n<path fill=\"none\" stroke=\"black\" d=\"M846.07,-34.98C855.42,-36.57 864.43,-38.1 872.55,-39.48\"/>\n<polygon fill=\"black\" stroke=\"black\" points=\"872.21,-42.97 882.65,-41.2 873.38,-36.07 872.21,-42.97\"/>\n</g>\n<!-- 2397521095760 -->\n<g id=\"node3\" class=\"node\">\n<title>2397521095760</title>\n<polygon fill=\"none\" stroke=\"black\" points=\"325,-83.5 325,-119.5 523,-119.5 523,-83.5 325,-83.5\"/>\n<text text-anchor=\"middle\" x=\"336.5\" y=\"-97.8\" font-family=\"Times New Roman,serif\" font-size=\"14.00\">e</text>\n<polyline fill=\"none\" stroke=\"black\" points=\"348,-83.5 348,-119.5 \"/>\n<text text-anchor=\"middle\" x=\"392.5\" y=\"-97.8\" font-family=\"Times New Roman,serif\" font-size=\"14.00\">data: &#45;6.0000</text>\n<polyline fill=\"none\" stroke=\"black\" points=\"437,-83.5 437,-119.5 \"/>\n<text text-anchor=\"middle\" x=\"480\" y=\"-97.8\" font-family=\"Times New Roman,serif\" font-size=\"14.00\">grad: 0.0000</text>\n</g>\n<!-- 2397541002576+ -->\n<g id=\"node8\" class=\"node\">\n<title>2397541002576+</title>\n<ellipse fill=\"none\" stroke=\"black\" cx=\"587\" cy=\"-73.5\" rx=\"27\" ry=\"18\"/>\n<text text-anchor=\"middle\" x=\"587\" y=\"-69.8\" font-family=\"Times New Roman,serif\" font-size=\"14.00\">+</text>\n</g>\n<!-- 2397521095760&#45;&gt;2397541002576+ -->\n<g id=\"edge5\" class=\"edge\">\n<title>2397521095760&#45;&gt;2397541002576+</title>\n<path fill=\"none\" stroke=\"black\" d=\"M523.29,-84.41C532.96,-82.72 542.27,-81.11 550.62,-79.65\"/>\n<polygon fill=\"black\" stroke=\"black\" points=\"551.38,-83.07 560.64,-77.91 550.18,-76.18 551.38,-83.07\"/>\n</g>\n<!-- 2397521095760*&#45;&gt;2397521095760 -->\n<g id=\"edge1\" class=\"edge\">\n<title>2397521095760*&#45;&gt;2397521095760</title>\n<path fill=\"none\" stroke=\"black\" d=\"M288.23,-101.5C295.96,-101.5 304.95,-101.5 314.55,-101.5\"/>\n<polygon fill=\"black\" stroke=\"black\" points=\"314.74,-105 324.74,-101.5 314.74,-98 314.74,-105\"/>\n</g>\n<!-- 2397521019856 -->\n<g id=\"node5\" class=\"node\">\n<title>2397521019856</title>\n<polygon fill=\"none\" stroke=\"black\" points=\"972,-27.5 972,-63.5 1172,-63.5 1172,-27.5 972,-27.5\"/>\n<text text-anchor=\"middle\" x=\"984.5\" y=\"-41.8\" font-family=\"Times New Roman,serif\" font-size=\"14.00\">L</text>\n<polyline fill=\"none\" stroke=\"black\" points=\"997,-27.5 997,-63.5 \"/>\n<text text-anchor=\"middle\" x=\"1041.5\" y=\"-41.8\" font-family=\"Times New Roman,serif\" font-size=\"14.00\">data: &#45;8.0000</text>\n<polyline fill=\"none\" stroke=\"black\" points=\"1086,-27.5 1086,-63.5 \"/>\n<text text-anchor=\"middle\" x=\"1129\" y=\"-41.8\" font-family=\"Times New Roman,serif\" font-size=\"14.00\">grad: 0.0000</text>\n</g>\n<!-- 2397521019856*&#45;&gt;2397521019856 -->\n<g id=\"edge2\" class=\"edge\">\n<title>2397521019856*&#45;&gt;2397521019856</title>\n<path fill=\"none\" stroke=\"black\" d=\"M936.23,-45.5C943.69,-45.5 952.31,-45.5 961.52,-45.5\"/>\n<polygon fill=\"black\" stroke=\"black\" points=\"961.71,-49 971.71,-45.5 961.71,-42 961.71,-49\"/>\n</g>\n<!-- 2397541002576 -->\n<g id=\"node7\" class=\"node\">\n<title>2397541002576</title>\n<polygon fill=\"none\" stroke=\"black\" points=\"651.5,-55.5 651.5,-91.5 844.5,-91.5 844.5,-55.5 651.5,-55.5\"/>\n<text text-anchor=\"middle\" x=\"663\" y=\"-69.8\" font-family=\"Times New Roman,serif\" font-size=\"14.00\">d</text>\n<polyline fill=\"none\" stroke=\"black\" points=\"674.5,-55.5 674.5,-91.5 \"/>\n<text text-anchor=\"middle\" x=\"716.5\" y=\"-69.8\" font-family=\"Times New Roman,serif\" font-size=\"14.00\">data: 4.0000</text>\n<polyline fill=\"none\" stroke=\"black\" points=\"758.5,-55.5 758.5,-91.5 \"/>\n<text text-anchor=\"middle\" x=\"801.5\" y=\"-69.8\" font-family=\"Times New Roman,serif\" font-size=\"14.00\">grad: 0.0000</text>\n</g>\n<!-- 2397541002576&#45;&gt;2397521019856* -->\n<g id=\"edge7\" class=\"edge\">\n<title>2397541002576&#45;&gt;2397521019856*</title>\n<path fill=\"none\" stroke=\"black\" d=\"M844.7,-56.65C854.61,-54.9 864.18,-53.22 872.73,-51.71\"/>\n<polygon fill=\"black\" stroke=\"black\" points=\"873.39,-55.15 882.63,-49.97 872.18,-48.25 873.39,-55.15\"/>\n</g>\n<!-- 2397541002576+&#45;&gt;2397541002576 -->\n<g id=\"edge3\" class=\"edge\">\n<title>2397541002576+&#45;&gt;2397541002576</title>\n<path fill=\"none\" stroke=\"black\" d=\"M614.26,-73.5C622.19,-73.5 631.44,-73.5 641.3,-73.5\"/>\n<polygon fill=\"black\" stroke=\"black\" points=\"641.33,-77 651.33,-73.5 641.33,-70 641.33,-77\"/>\n</g>\n<!-- 2397540357968 -->\n<g id=\"node9\" class=\"node\">\n<title>2397540357968</title>\n<polygon fill=\"none\" stroke=\"black\" points=\"2.5,-56.5 2.5,-92.5 195.5,-92.5 195.5,-56.5 2.5,-56.5\"/>\n<text text-anchor=\"middle\" x=\"14\" y=\"-70.8\" font-family=\"Times New Roman,serif\" font-size=\"14.00\">a</text>\n<polyline fill=\"none\" stroke=\"black\" points=\"25.5,-56.5 25.5,-92.5 \"/>\n<text text-anchor=\"middle\" x=\"67.5\" y=\"-70.8\" font-family=\"Times New Roman,serif\" font-size=\"14.00\">data: 2.0000</text>\n<polyline fill=\"none\" stroke=\"black\" points=\"109.5,-56.5 109.5,-92.5 \"/>\n<text text-anchor=\"middle\" x=\"152.5\" y=\"-70.8\" font-family=\"Times New Roman,serif\" font-size=\"14.00\">grad: 0.0000</text>\n</g>\n<!-- 2397540357968&#45;&gt;2397521095760* -->\n<g id=\"edge8\" class=\"edge\">\n<title>2397540357968&#45;&gt;2397521095760*</title>\n<path fill=\"none\" stroke=\"black\" d=\"M195.84,-90.67C205.97,-92.38 215.74,-94.03 224.48,-95.51\"/>\n<polygon fill=\"black\" stroke=\"black\" points=\"224.13,-99 234.57,-97.21 225.29,-92.09 224.13,-99\"/>\n</g>\n<!-- 2397541000144 -->\n<g id=\"node10\" class=\"node\">\n<title>2397541000144</title>\n<polygon fill=\"none\" stroke=\"black\" points=\"324,-28.5 324,-64.5 524,-64.5 524,-28.5 324,-28.5\"/>\n<text text-anchor=\"middle\" x=\"335.5\" y=\"-42.8\" font-family=\"Times New Roman,serif\" font-size=\"14.00\">c</text>\n<polyline fill=\"none\" stroke=\"black\" points=\"347,-28.5 347,-64.5 \"/>\n<text text-anchor=\"middle\" x=\"392.5\" y=\"-42.8\" font-family=\"Times New Roman,serif\" font-size=\"14.00\">data: 10.0000</text>\n<polyline fill=\"none\" stroke=\"black\" points=\"438,-28.5 438,-64.5 \"/>\n<text text-anchor=\"middle\" x=\"481\" y=\"-42.8\" font-family=\"Times New Roman,serif\" font-size=\"14.00\">grad: 0.0000</text>\n</g>\n<!-- 2397541000144&#45;&gt;2397541002576+ -->\n<g id=\"edge6\" class=\"edge\">\n<title>2397541000144&#45;&gt;2397541002576+</title>\n<path fill=\"none\" stroke=\"black\" d=\"M524.21,-63.14C533.57,-64.71 542.57,-66.22 550.67,-67.58\"/>\n<polygon fill=\"black\" stroke=\"black\" points=\"550.31,-71.06 560.76,-69.27 551.47,-64.16 550.31,-71.06\"/>\n</g>\n</g>\n</svg>\n",
      "text/plain": [
       "<graphviz.graphs.Digraph at 0x22e388fb750>"
      ]
     },
     "execution_count": 72,
     "metadata": {},
     "output_type": "execute_result"
    }
   ],
   "execution_count": 72
  },
  {
   "metadata": {
    "ExecuteTime": {
     "end_time": "2024-10-02T14:02:26.829926Z",
     "start_time": "2024-10-02T14:02:26.825616Z"
    }
   },
   "cell_type": "code",
   "source": [
    "L.grad = 1.0\n",
    "f.grad = 4.0\n",
    "d.grad = -2.0\n",
    "e.grad = -2.0\n",
    "c.grad = -2.0\n",
    "b.grad = 2.0 * (-2.0)\n",
    "a.grad = -3.0 * (-2.0)\n"
   ],
   "id": "e58188393352b019",
   "outputs": [],
   "execution_count": 73
  },
  {
   "metadata": {},
   "cell_type": "markdown",
   "source": [
    "- a = Value(2.0, label='a')\n",
    "- b = Value(-3.0, label='b')\n",
    "- c = Value(10.0, label='c')\n",
    "- e = a*b; e.label = 'e' -------> -6\n",
    "- d = e + c; d.label = 'd' --------> 4\n",
    "- f = Value(-2.0, label='f') ------> -2\n",
    "- L = d * f; L.label = 'L' -------> -8\n",
    "\n",
    "**now, gradients will be calculated**\n",
    "- dL/dL = 1\n",
    "- dL/df = d\n",
    "- dL/dd = f\n",
    "- dL/de = (dL/dd)* (dd/de) = f*1 = f\n",
    "- dL/dc = (dL/dd) * (dd/dc) = f*1 = f\n",
    "- dL/db = (dL/de)*(de/db) = f * a\n",
    "- dL/da = (dL/de)*(de/da) = f * b\n"
   ],
   "id": "28041ab78308ee5b"
  },
  {
   "metadata": {
    "ExecuteTime": {
     "end_time": "2024-10-02T14:02:26.860118Z",
     "start_time": "2024-10-02T14:02:26.853303Z"
    }
   },
   "cell_type": "code",
   "source": [
    "def lol(): # use this to find derivatives and verify\n",
    "  \n",
    "  h = 0.001\n",
    "  \n",
    "  a = Value(2.0, label='a')\n",
    "  b = Value(-3.0, label='b')\n",
    "  c = Value(10.0, label='c')\n",
    "  e = a*b; e.label = 'e'\n",
    "  d = e + c; d.label = 'd'\n",
    "  f = Value(-2.0, label='f')\n",
    "  L = d * f; L.label = 'L'\n",
    "  L1 = L.data\n",
    "  \n",
    "  a = Value(2.0, label='a')\n",
    "  b = Value(-3.0, label='b')\n",
    "  b.data += h\n",
    "  c = Value(10.0, label='c')\n",
    "  e = a*b; e.label = 'e'\n",
    "  d = e + c; d.label = 'd'\n",
    "  f = Value(-2.0, label='f')\n",
    "  L = d * f; L.label = 'L'\n",
    "  L2 = L.data\n",
    "  \n",
    "  print((L2 - L1)/h)\n",
    "  \n",
    "lol()"
   ],
   "id": "c290029828f3d3e9",
   "outputs": [
    {
     "name": "stdout",
     "output_type": "stream",
     "text": [
      "-3.9999999999995595\n"
     ]
    }
   ],
   "execution_count": 74
  },
  {
   "metadata": {},
   "cell_type": "markdown",
   "source": [
    "To increase value of L we move in the direction of gradient.\n",
    "if we nudge all the values L depends on in direction of gradient we will be able to increase L to maximize it."
   ],
   "id": "4653cdf50402c95d"
  },
  {
   "metadata": {
    "ExecuteTime": {
     "end_time": "2024-10-02T14:02:26.898909Z",
     "start_time": "2024-10-02T14:02:26.894197Z"
    }
   },
   "cell_type": "code",
   "source": [
    "a.data += 0.01 * a.grad\n",
    "b.data += 0.01 * b.grad\n",
    "c.data += 0.01 * c.grad\n",
    "f.data += 0.01 * f.grad\n",
    "\n",
    "e = a*b\n",
    "d = e+c\n",
    "L = d*f\n",
    "\n",
    "print(L.data)"
   ],
   "id": "de277bffdf756ce8",
   "outputs": [
    {
     "name": "stdout",
     "output_type": "stream",
     "text": [
      "-7.286496\n"
     ]
    }
   ],
   "execution_count": 75
  },
  {
   "metadata": {
    "ExecuteTime": {
     "end_time": "2024-10-02T14:02:26.995349Z",
     "start_time": "2024-10-02T14:02:26.932101Z"
    }
   },
   "cell_type": "code",
   "source": [
    "plt.plot(np.arange(-5,5,0.2), np.tanh(np.arange(-5,5,0.2))); plt.grid(); # our activation function for neurons\n",
    "plt.show()"
   ],
   "id": "da0daafff069ca63",
   "outputs": [
    {
     "data": {
      "text/plain": [
       "<Figure size 640x480 with 1 Axes>"
      ],
      "image/png": "[encoded data removed]"
     },
     "metadata": {},
     "output_type": "display_data"
    }
   ],
   "execution_count": 76
  },
  {
   "metadata": {
    "ExecuteTime": {
     "end_time": "2024-10-02T14:02:27.010705Z",
     "start_time": "2024-10-02T14:02:27.005079Z"
    }
   },
   "cell_type": "code",
   "source": [
    "# inputs x1,x2\n",
    "x1 = Value(2.0, label='x1')\n",
    "x2 = Value(0.0, label='x2')\n",
    "# weights w1,w2\n",
    "w1 = Value(-3.0, label='w1')\n",
    "w2 = Value(1.0, label='w2')\n",
    "# bias of the neuron\n",
    "b = Value(6.8813735870195432, label='b') # The vid choose this bias so that values come out proper to better understand gradient\n",
    "# x1*w1 + x2*w2 + b \n",
    "x1w1 = x1*w1; x1w1.label = 'x1*w1'\n",
    "x2w2 = x2*w2; x2w2.label = 'x2*w2'\n",
    "x1w1x2w2 = x1w1 + x2w2; x1w1x2w2.label = 'x1*w1 + x2*w2'\n",
    "n = x1w1x2w2 + b; n.label = 'n'\n",
    "\n",
    "o= n.tanh(); o.label = 'o'"
   ],
   "id": "8ad0bd64f6610fe",
   "outputs": [],
   "execution_count": 77
  },
  {
   "metadata": {
    "ExecuteTime": {
     "end_time": "2024-10-02T14:02:27.080161Z",
     "start_time": "2024-10-02T14:02:27.031248Z"
    }
   },
   "cell_type": "code",
   "source": "draw_dot(o)",
   "id": "19a5e26ae4e1f4f0",
   "outputs": [
    {
     "data": {
      "image/svg+xml": "<?xml version=\"1.0\" encoding=\"UTF-8\" standalone=\"no\"?>\n<!DOCTYPE svg PUBLIC \"-//W3C//DTD SVG 1.1//EN\"\n \"http://www.w3.org/Graphics/SVG/1.1/DTD/svg11.dtd\">\n<!-- Generated by graphviz version 2.50.0 (0)\n -->\n<!-- Pages: 1 -->\n<svg width=\"1615pt\" height=\"210pt\"\n viewBox=\"0.00 0.00 1615.00 210.00\" xmlns=\"http://www.w3.org/2000/svg\" xmlns:xlink=\"http://www.w3.org/1999/xlink\">\n<g id=\"graph0\" class=\"graph\" transform=\"scale(1 1) rotate(0) translate(4 206)\">\n<polygon fill=\"white\" stroke=\"transparent\" points=\"-4,4 -4,-206 1611,-206 1611,4 -4,4\"/>\n<!-- 2397540819984 -->\n<g id=\"node1\" class=\"node\">\n<title>2397540819984</title>\n<polygon fill=\"none\" stroke=\"black\" points=\"4,-165.5 4,-201.5 204,-201.5 204,-165.5 4,-165.5\"/>\n<text text-anchor=\"middle\" x=\"19\" y=\"-179.8\" font-family=\"Times New Roman,serif\" font-size=\"14.00\">x2</text>\n<polyline fill=\"none\" stroke=\"black\" points=\"34,-165.5 34,-201.5 \"/>\n<text text-anchor=\"middle\" x=\"76\" y=\"-179.8\" font-family=\"Times New Roman,serif\" font-size=\"14.00\">data: 0.0000</text>\n<polyline fill=\"none\" stroke=\"black\" points=\"118,-165.5 118,-201.5 \"/>\n<text text-anchor=\"middle\" x=\"161\" y=\"-179.8\" font-family=\"Times New Roman,serif\" font-size=\"14.00\">grad: 0.0000</text>\n</g>\n<!-- 2397539778896* -->\n<g id=\"node11\" class=\"node\">\n<title>2397539778896*</title>\n<ellipse fill=\"none\" stroke=\"black\" cx=\"271\" cy=\"-128.5\" rx=\"27\" ry=\"18\"/>\n<text text-anchor=\"middle\" x=\"271\" y=\"-124.8\" font-family=\"Times New Roman,serif\" font-size=\"14.00\">*</text>\n</g>\n<!-- 2397540819984&#45;&gt;2397539778896* -->\n<g id=\"edge6\" class=\"edge\">\n<title>2397540819984&#45;&gt;2397539778896*</title>\n<path fill=\"none\" stroke=\"black\" d=\"M179.99,-165.42C189.49,-162.67 199.03,-159.68 208,-156.5 218.55,-152.77 229.78,-147.96 239.74,-143.39\"/>\n<polygon fill=\"black\" stroke=\"black\" points=\"241.28,-146.54 248.84,-139.12 238.3,-140.2 241.28,-146.54\"/>\n</g>\n<!-- 2397521104464 -->\n<g id=\"node2\" class=\"node\">\n<title>2397521104464</title>\n<polygon fill=\"none\" stroke=\"black\" points=\"1095,-54.5 1095,-90.5 1288,-90.5 1288,-54.5 1095,-54.5\"/>\n<text text-anchor=\"middle\" x=\"1106.5\" y=\"-68.8\" font-family=\"Times New Roman,serif\" font-size=\"14.00\">n</text>\n<polyline fill=\"none\" stroke=\"black\" points=\"1118,-54.5 1118,-90.5 \"/>\n<text text-anchor=\"middle\" x=\"1160\" y=\"-68.8\" font-family=\"Times New Roman,serif\" font-size=\"14.00\">data: 0.8814</text>\n<polyline fill=\"none\" stroke=\"black\" points=\"1202,-54.5 1202,-90.5 \"/>\n<text text-anchor=\"middle\" x=\"1245\" y=\"-68.8\" font-family=\"Times New Roman,serif\" font-size=\"14.00\">grad: 0.0000</text>\n</g>\n<!-- 2397540889936tanh -->\n<g id=\"node13\" class=\"node\">\n<title>2397540889936tanh</title>\n<ellipse fill=\"none\" stroke=\"black\" cx=\"1351\" cy=\"-72.5\" rx=\"27\" ry=\"18\"/>\n<text text-anchor=\"middle\" x=\"1351\" y=\"-68.8\" font-family=\"Times New Roman,serif\" font-size=\"14.00\">tanh</text>\n</g>\n<!-- 2397521104464&#45;&gt;2397540889936tanh -->\n<g id=\"edge12\" class=\"edge\">\n<title>2397521104464&#45;&gt;2397540889936tanh</title>\n<path fill=\"none\" stroke=\"black\" d=\"M1288.2,-72.5C1297.15,-72.5 1305.79,-72.5 1313.63,-72.5\"/>\n<polygon fill=\"black\" stroke=\"black\" points=\"1313.78,-76 1323.78,-72.5 1313.78,-69 1313.78,-76\"/>\n</g>\n<!-- 2397521104464+ -->\n<g id=\"node3\" class=\"node\">\n<title>2397521104464+</title>\n<ellipse fill=\"none\" stroke=\"black\" cx=\"1032\" cy=\"-72.5\" rx=\"27\" ry=\"18\"/>\n<text text-anchor=\"middle\" x=\"1032\" y=\"-68.8\" font-family=\"Times New Roman,serif\" font-size=\"14.00\">+</text>\n</g>\n<!-- 2397521104464+&#45;&gt;2397521104464 -->\n<g id=\"edge1\" class=\"edge\">\n<title>2397521104464+&#45;&gt;2397521104464</title>\n<path fill=\"none\" stroke=\"black\" d=\"M1059.01,-72.5C1066.52,-72.5 1075.21,-72.5 1084.47,-72.5\"/>\n<polygon fill=\"black\" stroke=\"black\" points=\"1084.72,-76 1094.72,-72.5 1084.72,-69 1084.72,-76\"/>\n</g>\n<!-- 2397539788368 -->\n<g id=\"node4\" class=\"node\">\n<title>2397539788368</title>\n<polygon fill=\"none\" stroke=\"black\" points=\"688,-82.5 688,-118.5 969,-118.5 969,-82.5 688,-82.5\"/>\n<text text-anchor=\"middle\" x=\"741\" y=\"-96.8\" font-family=\"Times New Roman,serif\" font-size=\"14.00\">x1*w1 + x2*w2</text>\n<polyline fill=\"none\" stroke=\"black\" points=\"794,-82.5 794,-118.5 \"/>\n<text text-anchor=\"middle\" x=\"838.5\" y=\"-96.8\" font-family=\"Times New Roman,serif\" font-size=\"14.00\">data: &#45;6.0000</text>\n<polyline fill=\"none\" stroke=\"black\" points=\"883,-82.5 883,-118.5 \"/>\n<text text-anchor=\"middle\" x=\"926\" y=\"-96.8\" font-family=\"Times New Roman,serif\" font-size=\"14.00\">grad: 0.0000</text>\n</g>\n<!-- 2397539788368&#45;&gt;2397521104464+ -->\n<g id=\"edge14\" class=\"edge\">\n<title>2397539788368&#45;&gt;2397521104464+</title>\n<path fill=\"none\" stroke=\"black\" d=\"M959.11,-82.49C972.17,-80.67 984.53,-78.96 995.19,-77.48\"/>\n<polygon fill=\"black\" stroke=\"black\" points=\"995.83,-80.92 1005.26,-76.08 994.87,-73.99 995.83,-80.92\"/>\n</g>\n<!-- 2397539788368+ -->\n<g id=\"node5\" class=\"node\">\n<title>2397539788368+</title>\n<ellipse fill=\"none\" stroke=\"black\" cx=\"625\" cy=\"-100.5\" rx=\"27\" ry=\"18\"/>\n<text text-anchor=\"middle\" x=\"625\" y=\"-96.8\" font-family=\"Times New Roman,serif\" font-size=\"14.00\">+</text>\n</g>\n<!-- 2397539788368+&#45;&gt;2397539788368 -->\n<g id=\"edge2\" class=\"edge\">\n<title>2397539788368+&#45;&gt;2397539788368</title>\n<path fill=\"none\" stroke=\"black\" d=\"M652.34,-100.5C659.79,-100.5 668.45,-100.5 677.87,-100.5\"/>\n<polygon fill=\"black\" stroke=\"black\" points=\"677.94,-104 687.94,-100.5 677.94,-97 677.94,-104\"/>\n</g>\n<!-- 2397540669008 -->\n<g id=\"node6\" class=\"node\">\n<title>2397540669008</title>\n<polygon fill=\"none\" stroke=\"black\" points=\"2.5,-110.5 2.5,-146.5 205.5,-146.5 205.5,-110.5 2.5,-110.5\"/>\n<text text-anchor=\"middle\" x=\"19\" y=\"-124.8\" font-family=\"Times New Roman,serif\" font-size=\"14.00\">w2</text>\n<polyline fill=\"none\" stroke=\"black\" points=\"35.5,-110.5 35.5,-146.5 \"/>\n<text text-anchor=\"middle\" x=\"77.5\" y=\"-124.8\" font-family=\"Times New Roman,serif\" font-size=\"14.00\">data: 1.0000</text>\n<polyline fill=\"none\" stroke=\"black\" points=\"119.5,-110.5 119.5,-146.5 \"/>\n<text text-anchor=\"middle\" x=\"162.5\" y=\"-124.8\" font-family=\"Times New Roman,serif\" font-size=\"14.00\">grad: 0.0000</text>\n</g>\n<!-- 2397540669008&#45;&gt;2397539778896* -->\n<g id=\"edge10\" class=\"edge\">\n<title>2397540669008&#45;&gt;2397539778896*</title>\n<path fill=\"none\" stroke=\"black\" d=\"M205.73,-128.5C215.55,-128.5 225,-128.5 233.49,-128.5\"/>\n<polygon fill=\"black\" stroke=\"black\" points=\"233.7,-132 243.7,-128.5 233.7,-125 233.7,-132\"/>\n</g>\n<!-- 2397539785424 -->\n<g id=\"node7\" class=\"node\">\n<title>2397539785424</title>\n<polygon fill=\"none\" stroke=\"black\" points=\"334,-55.5 334,-91.5 562,-91.5 562,-55.5 334,-55.5\"/>\n<text text-anchor=\"middle\" x=\"360.5\" y=\"-69.8\" font-family=\"Times New Roman,serif\" font-size=\"14.00\">x1*w1</text>\n<polyline fill=\"none\" stroke=\"black\" points=\"387,-55.5 387,-91.5 \"/>\n<text text-anchor=\"middle\" x=\"431.5\" y=\"-69.8\" font-family=\"Times New Roman,serif\" font-size=\"14.00\">data: &#45;6.0000</text>\n<polyline fill=\"none\" stroke=\"black\" points=\"476,-55.5 476,-91.5 \"/>\n<text text-anchor=\"middle\" x=\"519\" y=\"-69.8\" font-family=\"Times New Roman,serif\" font-size=\"14.00\">grad: 0.0000</text>\n</g>\n<!-- 2397539785424&#45;&gt;2397539788368+ -->\n<g id=\"edge8\" class=\"edge\">\n<title>2397539785424&#45;&gt;2397539788368+</title>\n<path fill=\"none\" stroke=\"black\" d=\"M562.3,-90.98C571.62,-92.42 580.51,-93.79 588.5,-95.02\"/>\n<polygon fill=\"black\" stroke=\"black\" points=\"588.02,-98.49 598.43,-96.56 589.08,-91.57 588.02,-98.49\"/>\n</g>\n<!-- 2397539785424* -->\n<g id=\"node8\" class=\"node\">\n<title>2397539785424*</title>\n<ellipse fill=\"none\" stroke=\"black\" cx=\"271\" cy=\"-73.5\" rx=\"27\" ry=\"18\"/>\n<text text-anchor=\"middle\" x=\"271\" y=\"-69.8\" font-family=\"Times New Roman,serif\" font-size=\"14.00\">*</text>\n</g>\n<!-- 2397539785424*&#45;&gt;2397539785424 -->\n<g id=\"edge3\" class=\"edge\">\n<title>2397539785424*&#45;&gt;2397539785424</title>\n<path fill=\"none\" stroke=\"black\" d=\"M298.2,-73.5C305.62,-73.5 314.23,-73.5 323.48,-73.5\"/>\n<polygon fill=\"black\" stroke=\"black\" points=\"323.76,-77 333.76,-73.5 323.76,-70 323.76,-77\"/>\n</g>\n<!-- 2397539785488 -->\n<g id=\"node9\" class=\"node\">\n<title>2397539785488</title>\n<polygon fill=\"none\" stroke=\"black\" points=\"732,-27.5 732,-63.5 925,-63.5 925,-27.5 732,-27.5\"/>\n<text text-anchor=\"middle\" x=\"743.5\" y=\"-41.8\" font-family=\"Times New Roman,serif\" font-size=\"14.00\">b</text>\n<polyline fill=\"none\" stroke=\"black\" points=\"755,-27.5 755,-63.5 \"/>\n<text text-anchor=\"middle\" x=\"797\" y=\"-41.8\" font-family=\"Times New Roman,serif\" font-size=\"14.00\">data: 6.8814</text>\n<polyline fill=\"none\" stroke=\"black\" points=\"839,-27.5 839,-63.5 \"/>\n<text text-anchor=\"middle\" x=\"882\" y=\"-41.8\" font-family=\"Times New Roman,serif\" font-size=\"14.00\">grad: 0.0000</text>\n</g>\n<!-- 2397539785488&#45;&gt;2397521104464+ -->\n<g id=\"edge9\" class=\"edge\">\n<title>2397539785488&#45;&gt;2397521104464+</title>\n<path fill=\"none\" stroke=\"black\" d=\"M925.23,-58.33C950.2,-61.67 975.57,-65.07 995.2,-67.7\"/>\n<polygon fill=\"black\" stroke=\"black\" points=\"994.82,-71.18 1005.2,-69.04 995.75,-64.25 994.82,-71.18\"/>\n</g>\n<!-- 2397539778896 -->\n<g id=\"node10\" class=\"node\">\n<title>2397539778896</title>\n<polygon fill=\"none\" stroke=\"black\" points=\"336.5,-110.5 336.5,-146.5 559.5,-146.5 559.5,-110.5 336.5,-110.5\"/>\n<text text-anchor=\"middle\" x=\"363\" y=\"-124.8\" font-family=\"Times New Roman,serif\" font-size=\"14.00\">x2*w2</text>\n<polyline fill=\"none\" stroke=\"black\" points=\"389.5,-110.5 389.5,-146.5 \"/>\n<text text-anchor=\"middle\" x=\"431.5\" y=\"-124.8\" font-family=\"Times New Roman,serif\" font-size=\"14.00\">data: 0.0000</text>\n<polyline fill=\"none\" stroke=\"black\" points=\"473.5,-110.5 473.5,-146.5 \"/>\n<text text-anchor=\"middle\" x=\"516.5\" y=\"-124.8\" font-family=\"Times New Roman,serif\" font-size=\"14.00\">grad: 0.0000</text>\n</g>\n<!-- 2397539778896&#45;&gt;2397539788368+ -->\n<g id=\"edge11\" class=\"edge\">\n<title>2397539778896&#45;&gt;2397539788368+</title>\n<path fill=\"none\" stroke=\"black\" d=\"M559.83,-110.77C570.05,-109.13 579.82,-107.57 588.51,-106.18\"/>\n<polygon fill=\"black\" stroke=\"black\" points=\"589.21,-109.61 598.54,-104.57 588.11,-102.7 589.21,-109.61\"/>\n</g>\n<!-- 2397539778896*&#45;&gt;2397539778896 -->\n<g id=\"edge4\" class=\"edge\">\n<title>2397539778896*&#45;&gt;2397539778896</title>\n<path fill=\"none\" stroke=\"black\" d=\"M298.2,-128.5C306.36,-128.5 315.96,-128.5 326.28,-128.5\"/>\n<polygon fill=\"black\" stroke=\"black\" points=\"326.37,-132 336.37,-128.5 326.37,-125 326.37,-132\"/>\n</g>\n<!-- 2397540889936 -->\n<g id=\"node12\" class=\"node\">\n<title>2397540889936</title>\n<polygon fill=\"none\" stroke=\"black\" points=\"1414,-54.5 1414,-90.5 1607,-90.5 1607,-54.5 1414,-54.5\"/>\n<text text-anchor=\"middle\" x=\"1425.5\" y=\"-68.8\" font-family=\"Times New Roman,serif\" font-size=\"14.00\">o</text>\n<polyline fill=\"none\" stroke=\"black\" points=\"1437,-54.5 1437,-90.5 \"/>\n<text text-anchor=\"middle\" x=\"1479\" y=\"-68.8\" font-family=\"Times New Roman,serif\" font-size=\"14.00\">data: 0.7071</text>\n<polyline fill=\"none\" stroke=\"black\" points=\"1521,-54.5 1521,-90.5 \"/>\n<text text-anchor=\"middle\" x=\"1564\" y=\"-68.8\" font-family=\"Times New Roman,serif\" font-size=\"14.00\">grad: 0.0000</text>\n</g>\n<!-- 2397540889936tanh&#45;&gt;2397540889936 -->\n<g id=\"edge5\" class=\"edge\">\n<title>2397540889936tanh&#45;&gt;2397540889936</title>\n<path fill=\"none\" stroke=\"black\" d=\"M1378.01,-72.5C1385.52,-72.5 1394.21,-72.5 1403.47,-72.5\"/>\n<polygon fill=\"black\" stroke=\"black\" points=\"1403.72,-76 1413.72,-72.5 1403.72,-69 1403.72,-76\"/>\n</g>\n<!-- 2397540664144 -->\n<g id=\"node14\" class=\"node\">\n<title>2397540664144</title>\n<polygon fill=\"none\" stroke=\"black\" points=\"0,-55.5 0,-91.5 208,-91.5 208,-55.5 0,-55.5\"/>\n<text text-anchor=\"middle\" x=\"16.5\" y=\"-69.8\" font-family=\"Times New Roman,serif\" font-size=\"14.00\">w1</text>\n<polyline fill=\"none\" stroke=\"black\" points=\"33,-55.5 33,-91.5 \"/>\n<text text-anchor=\"middle\" x=\"77.5\" y=\"-69.8\" font-family=\"Times New Roman,serif\" font-size=\"14.00\">data: &#45;3.0000</text>\n<polyline fill=\"none\" stroke=\"black\" points=\"122,-55.5 122,-91.5 \"/>\n<text text-anchor=\"middle\" x=\"165\" y=\"-69.8\" font-family=\"Times New Roman,serif\" font-size=\"14.00\">grad: 0.0000</text>\n</g>\n<!-- 2397540664144&#45;&gt;2397539785424* -->\n<g id=\"edge13\" class=\"edge\">\n<title>2397540664144&#45;&gt;2397539785424*</title>\n<path fill=\"none\" stroke=\"black\" d=\"M208.09,-73.5C217.14,-73.5 225.83,-73.5 233.7,-73.5\"/>\n<polygon fill=\"black\" stroke=\"black\" points=\"233.87,-77 243.87,-73.5 233.87,-70 233.87,-77\"/>\n</g>\n<!-- 2397540890960 -->\n<g id=\"node15\" class=\"node\">\n<title>2397540890960</title>\n<polygon fill=\"none\" stroke=\"black\" points=\"4,-0.5 4,-36.5 204,-36.5 204,-0.5 4,-0.5\"/>\n<text text-anchor=\"middle\" x=\"19\" y=\"-14.8\" font-family=\"Times New Roman,serif\" font-size=\"14.00\">x1</text>\n<polyline fill=\"none\" stroke=\"black\" points=\"34,-0.5 34,-36.5 \"/>\n<text text-anchor=\"middle\" x=\"76\" y=\"-14.8\" font-family=\"Times New Roman,serif\" font-size=\"14.00\">data: 2.0000</text>\n<polyline fill=\"none\" stroke=\"black\" points=\"118,-0.5 118,-36.5 \"/>\n<text text-anchor=\"middle\" x=\"161\" y=\"-14.8\" font-family=\"Times New Roman,serif\" font-size=\"14.00\">grad: 0.0000</text>\n</g>\n<!-- 2397540890960&#45;&gt;2397539785424* -->\n<g id=\"edge7\" class=\"edge\">\n<title>2397540890960&#45;&gt;2397539785424*</title>\n<path fill=\"none\" stroke=\"black\" d=\"M176.61,-36.52C187.22,-39.61 197.95,-42.97 208,-46.5 218.3,-50.12 229.3,-54.67 239.13,-59.01\"/>\n<polygon fill=\"black\" stroke=\"black\" points=\"237.95,-62.31 248.5,-63.22 240.82,-55.93 237.95,-62.31\"/>\n</g>\n</g>\n</svg>\n",
      "text/plain": [
       "<graphviz.graphs.Digraph at 0x22e38929410>"
      ]
     },
     "execution_count": 78,
     "metadata": {},
     "output_type": "execute_result"
    }
   ],
   "execution_count": 78
  },
  {
   "metadata": {},
   "cell_type": "markdown",
   "source": "Now, We manually backpropagate and calculate the gradients",
   "id": "43abe95046120060"
  },
  {
   "metadata": {
    "ExecuteTime": {
     "end_time": "2024-10-02T14:02:27.097633Z",
     "start_time": "2024-10-02T14:02:27.091039Z"
    }
   },
   "cell_type": "code",
   "source": [
    "o.grad = 1\n",
    "# now backpropagation \n",
    "\n",
    "n.grad = 1 - o.data ** 2 # pass through tanh so need to take derivative of that and then compute\n",
    "\n",
    "x1w1x2w2.grad = n.grad # passes through + operator so the constant terms go 0 and we left with grad of current node\n",
    "\n",
    "b.grad = n.grad # passes through + operator so the constant terms go 0 and we left with grad of current node\n",
    "\n",
    "x2w2.grad = x1w1x2w2.grad # passes through + operator so the constant terms go 0 and we left with grad of current node\n",
    "\n",
    "x1w1.grad = x1w1x2w2.grad # passes through + operator so the constant terms go 0 and we left with grad of current node\n",
    "\n",
    "x2.grad = w2.data * x2w2.grad # passes through * operator so the coefficient is multiplied with the current node's grad\n",
    "\n",
    "w2.grad = x2.data * x2w2.grad # passes through * operator so the coefficient is multiplied with the current node's grad\n",
    "\n",
    "x1.grad = w1.data * x1w1.grad # passes through * operator so the coefficient is multiplied with the current node's grad\n",
    "\n",
    "w1.grad = x1.data * x1w1.grad # # passes through * operator so the coefficient is multiplied with the current node's grad\n"
   ],
   "id": "7698758f282323dc",
   "outputs": [],
   "execution_count": 79
  },
  {
   "metadata": {
    "ExecuteTime": {
     "end_time": "2024-10-02T14:02:27.115569Z",
     "start_time": "2024-10-02T14:02:27.112049Z"
    }
   },
   "cell_type": "code",
   "source": [
    "# o = tanh(n)\n",
    "# do/dn = 1 - tanh(n)^2 = 1 - o^2"
   ],
   "id": "76b19b12bbae7cdb",
   "outputs": [],
   "execution_count": 80
  },
  {
   "metadata": {},
   "cell_type": "markdown",
   "source": "All this is too hectic and not feasible in case of a larger network so its essential for us to automate this on creation.",
   "id": "d748de83f94d92a1"
  },
  {
   "metadata": {
    "ExecuteTime": {
     "end_time": "2024-10-02T14:02:27.177905Z",
     "start_time": "2024-10-02T14:02:27.127928Z"
    }
   },
   "cell_type": "code",
   "source": "draw_dot(o)",
   "id": "a2bdd5549d08e18f",
   "outputs": [
    {
     "data": {
      "image/svg+xml": "<?xml version=\"1.0\" encoding=\"UTF-8\" standalone=\"no\"?>\n<!DOCTYPE svg PUBLIC \"-//W3C//DTD SVG 1.1//EN\"\n \"http://www.w3.org/Graphics/SVG/1.1/DTD/svg11.dtd\">\n<!-- Generated by graphviz version 2.50.0 (0)\n -->\n<!-- Pages: 1 -->\n<svg width=\"1615pt\" height=\"210pt\"\n viewBox=\"0.00 0.00 1615.00 210.00\" xmlns=\"http://www.w3.org/2000/svg\" xmlns:xlink=\"http://www.w3.org/1999/xlink\">\n<g id=\"graph0\" class=\"graph\" transform=\"scale(1 1) rotate(0) translate(4 206)\">\n<polygon fill=\"white\" stroke=\"transparent\" points=\"-4,4 -4,-206 1611,-206 1611,4 -4,4\"/>\n<!-- 2397540819984 -->\n<g id=\"node1\" class=\"node\">\n<title>2397540819984</title>\n<polygon fill=\"none\" stroke=\"black\" points=\"4,-165.5 4,-201.5 204,-201.5 204,-165.5 4,-165.5\"/>\n<text text-anchor=\"middle\" x=\"19\" y=\"-179.8\" font-family=\"Times New Roman,serif\" font-size=\"14.00\">x2</text>\n<polyline fill=\"none\" stroke=\"black\" points=\"34,-165.5 34,-201.5 \"/>\n<text text-anchor=\"middle\" x=\"76\" y=\"-179.8\" font-family=\"Times New Roman,serif\" font-size=\"14.00\">data: 0.0000</text>\n<polyline fill=\"none\" stroke=\"black\" points=\"118,-165.5 118,-201.5 \"/>\n<text text-anchor=\"middle\" x=\"161\" y=\"-179.8\" font-family=\"Times New Roman,serif\" font-size=\"14.00\">grad: 0.5000</text>\n</g>\n<!-- 2397539778896* -->\n<g id=\"node11\" class=\"node\">\n<title>2397539778896*</title>\n<ellipse fill=\"none\" stroke=\"black\" cx=\"271\" cy=\"-128.5\" rx=\"27\" ry=\"18\"/>\n<text text-anchor=\"middle\" x=\"271\" y=\"-124.8\" font-family=\"Times New Roman,serif\" font-size=\"14.00\">*</text>\n</g>\n<!-- 2397540819984&#45;&gt;2397539778896* -->\n<g id=\"edge6\" class=\"edge\">\n<title>2397540819984&#45;&gt;2397539778896*</title>\n<path fill=\"none\" stroke=\"black\" d=\"M179.99,-165.42C189.49,-162.67 199.03,-159.68 208,-156.5 218.55,-152.77 229.78,-147.96 239.74,-143.39\"/>\n<polygon fill=\"black\" stroke=\"black\" points=\"241.28,-146.54 248.84,-139.12 238.3,-140.2 241.28,-146.54\"/>\n</g>\n<!-- 2397521104464 -->\n<g id=\"node2\" class=\"node\">\n<title>2397521104464</title>\n<polygon fill=\"none\" stroke=\"black\" points=\"1095,-54.5 1095,-90.5 1288,-90.5 1288,-54.5 1095,-54.5\"/>\n<text text-anchor=\"middle\" x=\"1106.5\" y=\"-68.8\" font-family=\"Times New Roman,serif\" font-size=\"14.00\">n</text>\n<polyline fill=\"none\" stroke=\"black\" points=\"1118,-54.5 1118,-90.5 \"/>\n<text text-anchor=\"middle\" x=\"1160\" y=\"-68.8\" font-family=\"Times New Roman,serif\" font-size=\"14.00\">data: 0.8814</text>\n<polyline fill=\"none\" stroke=\"black\" points=\"1202,-54.5 1202,-90.5 \"/>\n<text text-anchor=\"middle\" x=\"1245\" y=\"-68.8\" font-family=\"Times New Roman,serif\" font-size=\"14.00\">grad: 0.5000</text>\n</g>\n<!-- 2397540889936tanh -->\n<g id=\"node13\" class=\"node\">\n<title>2397540889936tanh</title>\n<ellipse fill=\"none\" stroke=\"black\" cx=\"1351\" cy=\"-72.5\" rx=\"27\" ry=\"18\"/>\n<text text-anchor=\"middle\" x=\"1351\" y=\"-68.8\" font-family=\"Times New Roman,serif\" font-size=\"14.00\">tanh</text>\n</g>\n<!-- 2397521104464&#45;&gt;2397540889936tanh -->\n<g id=\"edge12\" class=\"edge\">\n<title>2397521104464&#45;&gt;2397540889936tanh</title>\n<path fill=\"none\" stroke=\"black\" d=\"M1288.2,-72.5C1297.15,-72.5 1305.79,-72.5 1313.63,-72.5\"/>\n<polygon fill=\"black\" stroke=\"black\" points=\"1313.78,-76 1323.78,-72.5 1313.78,-69 1313.78,-76\"/>\n</g>\n<!-- 2397521104464+ -->\n<g id=\"node3\" class=\"node\">\n<title>2397521104464+</title>\n<ellipse fill=\"none\" stroke=\"black\" cx=\"1032\" cy=\"-72.5\" rx=\"27\" ry=\"18\"/>\n<text text-anchor=\"middle\" x=\"1032\" y=\"-68.8\" font-family=\"Times New Roman,serif\" font-size=\"14.00\">+</text>\n</g>\n<!-- 2397521104464+&#45;&gt;2397521104464 -->\n<g id=\"edge1\" class=\"edge\">\n<title>2397521104464+&#45;&gt;2397521104464</title>\n<path fill=\"none\" stroke=\"black\" d=\"M1059.01,-72.5C1066.52,-72.5 1075.21,-72.5 1084.47,-72.5\"/>\n<polygon fill=\"black\" stroke=\"black\" points=\"1084.72,-76 1094.72,-72.5 1084.72,-69 1084.72,-76\"/>\n</g>\n<!-- 2397539788368 -->\n<g id=\"node4\" class=\"node\">\n<title>2397539788368</title>\n<polygon fill=\"none\" stroke=\"black\" points=\"688,-82.5 688,-118.5 969,-118.5 969,-82.5 688,-82.5\"/>\n<text text-anchor=\"middle\" x=\"741\" y=\"-96.8\" font-family=\"Times New Roman,serif\" font-size=\"14.00\">x1*w1 + x2*w2</text>\n<polyline fill=\"none\" stroke=\"black\" points=\"794,-82.5 794,-118.5 \"/>\n<text text-anchor=\"middle\" x=\"838.5\" y=\"-96.8\" font-family=\"Times New Roman,serif\" font-size=\"14.00\">data: &#45;6.0000</text>\n<polyline fill=\"none\" stroke=\"black\" points=\"883,-82.5 883,-118.5 \"/>\n<text text-anchor=\"middle\" x=\"926\" y=\"-96.8\" font-family=\"Times New Roman,serif\" font-size=\"14.00\">grad: 0.5000</text>\n</g>\n<!-- 2397539788368&#45;&gt;2397521104464+ -->\n<g id=\"edge14\" class=\"edge\">\n<title>2397539788368&#45;&gt;2397521104464+</title>\n<path fill=\"none\" stroke=\"black\" d=\"M959.11,-82.49C972.17,-80.67 984.53,-78.96 995.19,-77.48\"/>\n<polygon fill=\"black\" stroke=\"black\" points=\"995.83,-80.92 1005.26,-76.08 994.87,-73.99 995.83,-80.92\"/>\n</g>\n<!-- 2397539788368+ -->\n<g id=\"node5\" class=\"node\">\n<title>2397539788368+</title>\n<ellipse fill=\"none\" stroke=\"black\" cx=\"625\" cy=\"-100.5\" rx=\"27\" ry=\"18\"/>\n<text text-anchor=\"middle\" x=\"625\" y=\"-96.8\" font-family=\"Times New Roman,serif\" font-size=\"14.00\">+</text>\n</g>\n<!-- 2397539788368+&#45;&gt;2397539788368 -->\n<g id=\"edge2\" class=\"edge\">\n<title>2397539788368+&#45;&gt;2397539788368</title>\n<path fill=\"none\" stroke=\"black\" d=\"M652.34,-100.5C659.79,-100.5 668.45,-100.5 677.87,-100.5\"/>\n<polygon fill=\"black\" stroke=\"black\" points=\"677.94,-104 687.94,-100.5 677.94,-97 677.94,-104\"/>\n</g>\n<!-- 2397540669008 -->\n<g id=\"node6\" class=\"node\">\n<title>2397540669008</title>\n<polygon fill=\"none\" stroke=\"black\" points=\"2.5,-110.5 2.5,-146.5 205.5,-146.5 205.5,-110.5 2.5,-110.5\"/>\n<text text-anchor=\"middle\" x=\"19\" y=\"-124.8\" font-family=\"Times New Roman,serif\" font-size=\"14.00\">w2</text>\n<polyline fill=\"none\" stroke=\"black\" points=\"35.5,-110.5 35.5,-146.5 \"/>\n<text text-anchor=\"middle\" x=\"77.5\" y=\"-124.8\" font-family=\"Times New Roman,serif\" font-size=\"14.00\">data: 1.0000</text>\n<polyline fill=\"none\" stroke=\"black\" points=\"119.5,-110.5 119.5,-146.5 \"/>\n<text text-anchor=\"middle\" x=\"162.5\" y=\"-124.8\" font-family=\"Times New Roman,serif\" font-size=\"14.00\">grad: 0.0000</text>\n</g>\n<!-- 2397540669008&#45;&gt;2397539778896* -->\n<g id=\"edge10\" class=\"edge\">\n<title>2397540669008&#45;&gt;2397539778896*</title>\n<path fill=\"none\" stroke=\"black\" d=\"M205.73,-128.5C215.55,-128.5 225,-128.5 233.49,-128.5\"/>\n<polygon fill=\"black\" stroke=\"black\" points=\"233.7,-132 243.7,-128.5 233.7,-125 233.7,-132\"/>\n</g>\n<!-- 2397539785424 -->\n<g id=\"node7\" class=\"node\">\n<title>2397539785424</title>\n<polygon fill=\"none\" stroke=\"black\" points=\"334,-55.5 334,-91.5 562,-91.5 562,-55.5 334,-55.5\"/>\n<text text-anchor=\"middle\" x=\"360.5\" y=\"-69.8\" font-family=\"Times New Roman,serif\" font-size=\"14.00\">x1*w1</text>\n<polyline fill=\"none\" stroke=\"black\" points=\"387,-55.5 387,-91.5 \"/>\n<text text-anchor=\"middle\" x=\"431.5\" y=\"-69.8\" font-family=\"Times New Roman,serif\" font-size=\"14.00\">data: &#45;6.0000</text>\n<polyline fill=\"none\" stroke=\"black\" points=\"476,-55.5 476,-91.5 \"/>\n<text text-anchor=\"middle\" x=\"519\" y=\"-69.8\" font-family=\"Times New Roman,serif\" font-size=\"14.00\">grad: 0.5000</text>\n</g>\n<!-- 2397539785424&#45;&gt;2397539788368+ -->\n<g id=\"edge8\" class=\"edge\">\n<title>2397539785424&#45;&gt;2397539788368+</title>\n<path fill=\"none\" stroke=\"black\" d=\"M562.3,-90.98C571.62,-92.42 580.51,-93.79 588.5,-95.02\"/>\n<polygon fill=\"black\" stroke=\"black\" points=\"588.02,-98.49 598.43,-96.56 589.08,-91.57 588.02,-98.49\"/>\n</g>\n<!-- 2397539785424* -->\n<g id=\"node8\" class=\"node\">\n<title>2397539785424*</title>\n<ellipse fill=\"none\" stroke=\"black\" cx=\"271\" cy=\"-73.5\" rx=\"27\" ry=\"18\"/>\n<text text-anchor=\"middle\" x=\"271\" y=\"-69.8\" font-family=\"Times New Roman,serif\" font-size=\"14.00\">*</text>\n</g>\n<!-- 2397539785424*&#45;&gt;2397539785424 -->\n<g id=\"edge3\" class=\"edge\">\n<title>2397539785424*&#45;&gt;2397539785424</title>\n<path fill=\"none\" stroke=\"black\" d=\"M298.2,-73.5C305.62,-73.5 314.23,-73.5 323.48,-73.5\"/>\n<polygon fill=\"black\" stroke=\"black\" points=\"323.76,-77 333.76,-73.5 323.76,-70 323.76,-77\"/>\n</g>\n<!-- 2397539785488 -->\n<g id=\"node9\" class=\"node\">\n<title>2397539785488</title>\n<polygon fill=\"none\" stroke=\"black\" points=\"732,-27.5 732,-63.5 925,-63.5 925,-27.5 732,-27.5\"/>\n<text text-anchor=\"middle\" x=\"743.5\" y=\"-41.8\" font-family=\"Times New Roman,serif\" font-size=\"14.00\">b</text>\n<polyline fill=\"none\" stroke=\"black\" points=\"755,-27.5 755,-63.5 \"/>\n<text text-anchor=\"middle\" x=\"797\" y=\"-41.8\" font-family=\"Times New Roman,serif\" font-size=\"14.00\">data: 6.8814</text>\n<polyline fill=\"none\" stroke=\"black\" points=\"839,-27.5 839,-63.5 \"/>\n<text text-anchor=\"middle\" x=\"882\" y=\"-41.8\" font-family=\"Times New Roman,serif\" font-size=\"14.00\">grad: 0.5000</text>\n</g>\n<!-- 2397539785488&#45;&gt;2397521104464+ -->\n<g id=\"edge9\" class=\"edge\">\n<title>2397539785488&#45;&gt;2397521104464+</title>\n<path fill=\"none\" stroke=\"black\" d=\"M925.23,-58.33C950.2,-61.67 975.57,-65.07 995.2,-67.7\"/>\n<polygon fill=\"black\" stroke=\"black\" points=\"994.82,-71.18 1005.2,-69.04 995.75,-64.25 994.82,-71.18\"/>\n</g>\n<!-- 2397539778896 -->\n<g id=\"node10\" class=\"node\">\n<title>2397539778896</title>\n<polygon fill=\"none\" stroke=\"black\" points=\"336.5,-110.5 336.5,-146.5 559.5,-146.5 559.5,-110.5 336.5,-110.5\"/>\n<text text-anchor=\"middle\" x=\"363\" y=\"-124.8\" font-family=\"Times New Roman,serif\" font-size=\"14.00\">x2*w2</text>\n<polyline fill=\"none\" stroke=\"black\" points=\"389.5,-110.5 389.5,-146.5 \"/>\n<text text-anchor=\"middle\" x=\"431.5\" y=\"-124.8\" font-family=\"Times New Roman,serif\" font-size=\"14.00\">data: 0.0000</text>\n<polyline fill=\"none\" stroke=\"black\" points=\"473.5,-110.5 473.5,-146.5 \"/>\n<text text-anchor=\"middle\" x=\"516.5\" y=\"-124.8\" font-family=\"Times New Roman,serif\" font-size=\"14.00\">grad: 0.5000</text>\n</g>\n<!-- 2397539778896&#45;&gt;2397539788368+ -->\n<g id=\"edge11\" class=\"edge\">\n<title>2397539778896&#45;&gt;2397539788368+</title>\n<path fill=\"none\" stroke=\"black\" d=\"M559.83,-110.77C570.05,-109.13 579.82,-107.57 588.51,-106.18\"/>\n<polygon fill=\"black\" stroke=\"black\" points=\"589.21,-109.61 598.54,-104.57 588.11,-102.7 589.21,-109.61\"/>\n</g>\n<!-- 2397539778896*&#45;&gt;2397539778896 -->\n<g id=\"edge4\" class=\"edge\">\n<title>2397539778896*&#45;&gt;2397539778896</title>\n<path fill=\"none\" stroke=\"black\" d=\"M298.2,-128.5C306.36,-128.5 315.96,-128.5 326.28,-128.5\"/>\n<polygon fill=\"black\" stroke=\"black\" points=\"326.37,-132 336.37,-128.5 326.37,-125 326.37,-132\"/>\n</g>\n<!-- 2397540889936 -->\n<g id=\"node12\" class=\"node\">\n<title>2397540889936</title>\n<polygon fill=\"none\" stroke=\"black\" points=\"1414,-54.5 1414,-90.5 1607,-90.5 1607,-54.5 1414,-54.5\"/>\n<text text-anchor=\"middle\" x=\"1425.5\" y=\"-68.8\" font-family=\"Times New Roman,serif\" font-size=\"14.00\">o</text>\n<polyline fill=\"none\" stroke=\"black\" points=\"1437,-54.5 1437,-90.5 \"/>\n<text text-anchor=\"middle\" x=\"1479\" y=\"-68.8\" font-family=\"Times New Roman,serif\" font-size=\"14.00\">data: 0.7071</text>\n<polyline fill=\"none\" stroke=\"black\" points=\"1521,-54.5 1521,-90.5 \"/>\n<text text-anchor=\"middle\" x=\"1564\" y=\"-68.8\" font-family=\"Times New Roman,serif\" font-size=\"14.00\">grad: 1.0000</text>\n</g>\n<!-- 2397540889936tanh&#45;&gt;2397540889936 -->\n<g id=\"edge5\" class=\"edge\">\n<title>2397540889936tanh&#45;&gt;2397540889936</title>\n<path fill=\"none\" stroke=\"black\" d=\"M1378.01,-72.5C1385.52,-72.5 1394.21,-72.5 1403.47,-72.5\"/>\n<polygon fill=\"black\" stroke=\"black\" points=\"1403.72,-76 1413.72,-72.5 1403.72,-69 1403.72,-76\"/>\n</g>\n<!-- 2397540664144 -->\n<g id=\"node14\" class=\"node\">\n<title>2397540664144</title>\n<polygon fill=\"none\" stroke=\"black\" points=\"0,-55.5 0,-91.5 208,-91.5 208,-55.5 0,-55.5\"/>\n<text text-anchor=\"middle\" x=\"16.5\" y=\"-69.8\" font-family=\"Times New Roman,serif\" font-size=\"14.00\">w1</text>\n<polyline fill=\"none\" stroke=\"black\" points=\"33,-55.5 33,-91.5 \"/>\n<text text-anchor=\"middle\" x=\"77.5\" y=\"-69.8\" font-family=\"Times New Roman,serif\" font-size=\"14.00\">data: &#45;3.0000</text>\n<polyline fill=\"none\" stroke=\"black\" points=\"122,-55.5 122,-91.5 \"/>\n<text text-anchor=\"middle\" x=\"165\" y=\"-69.8\" font-family=\"Times New Roman,serif\" font-size=\"14.00\">grad: 1.0000</text>\n</g>\n<!-- 2397540664144&#45;&gt;2397539785424* -->\n<g id=\"edge13\" class=\"edge\">\n<title>2397540664144&#45;&gt;2397539785424*</title>\n<path fill=\"none\" stroke=\"black\" d=\"M208.09,-73.5C217.14,-73.5 225.83,-73.5 233.7,-73.5\"/>\n<polygon fill=\"black\" stroke=\"black\" points=\"233.87,-77 243.87,-73.5 233.87,-70 233.87,-77\"/>\n</g>\n<!-- 2397540890960 -->\n<g id=\"node15\" class=\"node\">\n<title>2397540890960</title>\n<polygon fill=\"none\" stroke=\"black\" points=\"2,-0.5 2,-36.5 206,-36.5 206,-0.5 2,-0.5\"/>\n<text text-anchor=\"middle\" x=\"17\" y=\"-14.8\" font-family=\"Times New Roman,serif\" font-size=\"14.00\">x1</text>\n<polyline fill=\"none\" stroke=\"black\" points=\"32,-0.5 32,-36.5 \"/>\n<text text-anchor=\"middle\" x=\"74\" y=\"-14.8\" font-family=\"Times New Roman,serif\" font-size=\"14.00\">data: 2.0000</text>\n<polyline fill=\"none\" stroke=\"black\" points=\"116,-0.5 116,-36.5 \"/>\n<text text-anchor=\"middle\" x=\"161\" y=\"-14.8\" font-family=\"Times New Roman,serif\" font-size=\"14.00\">grad: &#45;1.5000</text>\n</g>\n<!-- 2397540890960&#45;&gt;2397539785424* -->\n<g id=\"edge7\" class=\"edge\">\n<title>2397540890960&#45;&gt;2397539785424*</title>\n<path fill=\"none\" stroke=\"black\" d=\"M176.61,-36.52C187.22,-39.61 197.95,-42.97 208,-46.5 218.3,-50.12 229.3,-54.67 239.13,-59.01\"/>\n<polygon fill=\"black\" stroke=\"black\" points=\"237.95,-62.31 248.5,-63.22 240.82,-55.93 237.95,-62.31\"/>\n</g>\n</g>\n</svg>\n",
      "text/plain": [
       "<graphviz.graphs.Digraph at 0x22e38947010>"
      ]
     },
     "execution_count": 81,
     "metadata": {},
     "output_type": "execute_result"
    }
   ],
   "execution_count": 81
  },
  {
   "metadata": {
    "ExecuteTime": {
     "end_time": "2024-10-02T14:02:27.213488Z",
     "start_time": "2024-10-02T14:02:27.208815Z"
    }
   },
   "cell_type": "code",
   "source": "o.grad = 1.0 #initialize the base case",
   "id": "d8f25683ea97005d",
   "outputs": [],
   "execution_count": 82
  },
  {
   "metadata": {
    "ExecuteTime": {
     "end_time": "2024-10-02T14:02:27.225350Z",
     "start_time": "2024-10-02T14:02:27.222007Z"
    }
   },
   "cell_type": "code",
   "source": [
    "# now backtrack and call  _backward function to get gradient of prev node, maintain the order (essential)\n",
    "o._backward()"
   ],
   "id": "6b603a300018c9ea",
   "outputs": [],
   "execution_count": 83
  },
  {
   "metadata": {
    "ExecuteTime": {
     "end_time": "2024-10-02T14:02:27.241029Z",
     "start_time": "2024-10-02T14:02:27.237811Z"
    }
   },
   "cell_type": "code",
   "source": "n._backward()",
   "id": "4c66ae76b10f335c",
   "outputs": [],
   "execution_count": 84
  },
  {
   "metadata": {
    "ExecuteTime": {
     "end_time": "2024-10-02T14:02:27.255496Z",
     "start_time": "2024-10-02T14:02:27.252126Z"
    }
   },
   "cell_type": "code",
   "source": "x1w1x2w2._backward()",
   "id": "2bb70b1a5a3ad098",
   "outputs": [],
   "execution_count": 85
  },
  {
   "metadata": {
    "ExecuteTime": {
     "end_time": "2024-10-02T14:02:27.269811Z",
     "start_time": "2024-10-02T14:02:27.266418Z"
    }
   },
   "cell_type": "code",
   "source": [
    "x2w2._backward()\n",
    "x1w1._backward()"
   ],
   "id": "c447b8d624f119f4",
   "outputs": [],
   "execution_count": 86
  },
  {
   "metadata": {},
   "cell_type": "markdown",
   "source": [
    "This is better since we dont have to manually calculate the gradient, it does that itself.\n",
    "\n",
    "but a limitation for this is if we have a large number of nodes, calling _backward method manually will be really time consuming.\n",
    "\n",
    "so lets try and automate the backward function"
   ],
   "id": "4fb572941cf44a06"
  },
  {
   "metadata": {},
   "cell_type": "markdown",
   "source": [
    "#### We would want a sorting of the nodes in a way they point in a single direction, ideally left to right.\n",
    "#### We would want to call backward on a node only when it has been called on all the nodes on its right that are its dependencies"
   ],
   "id": "4facacbdc67e10a0"
  },
  {
   "metadata": {
    "ExecuteTime": {
     "end_time": "2024-10-02T14:02:27.286096Z",
     "start_time": "2024-10-02T14:02:27.281249Z"
    }
   },
   "cell_type": "code",
   "source": [
    "# inputs x1,x2\n",
    "x1 = Value(2.0, label='x1')\n",
    "x2 = Value(0.0, label='x2')\n",
    "# weights w1,w2\n",
    "w1 = Value(-3.0, label='w1')\n",
    "w2 = Value(1.0, label='w2')\n",
    "# bias of the neuron\n",
    "b = Value(6.8813735870195432, label='b') # The vid choose this bias so that values come out proper to better understand gradient\n",
    "# x1*w1 + x2*w2 + b \n",
    "x1w1 = x1*w1; x1w1.label = 'x1*w1'\n",
    "x2w2 = x2*w2; x2w2.label = 'x2*w2'\n",
    "x1w1x2w2 = x1w1 + x2w2; x1w1x2w2.label = 'x1*w1 + x2*w2'\n",
    "n = x1w1x2w2 + b; n.label = 'n'\n",
    "\n",
    "o= n.tanh(); o.label = 'o'"
   ],
   "id": "31e154fa7f74ac73",
   "outputs": [],
   "execution_count": 87
  },
  {
   "metadata": {
    "ExecuteTime": {
     "end_time": "2024-10-02T14:02:27.350452Z",
     "start_time": "2024-10-02T14:02:27.300106Z"
    }
   },
   "cell_type": "code",
   "source": "draw_dot(o)",
   "id": "5b4bc2fb54c198f5",
   "outputs": [
    {
     "data": {
      "image/svg+xml": "<?xml version=\"1.0\" encoding=\"UTF-8\" standalone=\"no\"?>\n<!DOCTYPE svg PUBLIC \"-//W3C//DTD SVG 1.1//EN\"\n \"http://www.w3.org/Graphics/SVG/1.1/DTD/svg11.dtd\">\n<!-- Generated by graphviz version 2.50.0 (0)\n -->\n<!-- Pages: 1 -->\n<svg width=\"1615pt\" height=\"210pt\"\n viewBox=\"0.00 0.00 1615.00 210.00\" xmlns=\"http://www.w3.org/2000/svg\" xmlns:xlink=\"http://www.w3.org/1999/xlink\">\n<g id=\"graph0\" class=\"graph\" transform=\"scale(1 1) rotate(0) translate(4 206)\">\n<polygon fill=\"white\" stroke=\"transparent\" points=\"-4,4 -4,-206 1611,-206 1611,4 -4,4\"/>\n<!-- 2397521196048 -->\n<g id=\"node1\" class=\"node\">\n<title>2397521196048</title>\n<polygon fill=\"none\" stroke=\"black\" points=\"336.5,-55.5 336.5,-91.5 559.5,-91.5 559.5,-55.5 336.5,-55.5\"/>\n<text text-anchor=\"middle\" x=\"363\" y=\"-69.8\" font-family=\"Times New Roman,serif\" font-size=\"14.00\">x2*w2</text>\n<polyline fill=\"none\" stroke=\"black\" points=\"389.5,-55.5 389.5,-91.5 \"/>\n<text text-anchor=\"middle\" x=\"431.5\" y=\"-69.8\" font-family=\"Times New Roman,serif\" font-size=\"14.00\">data: 0.0000</text>\n<polyline fill=\"none\" stroke=\"black\" points=\"473.5,-55.5 473.5,-91.5 \"/>\n<text text-anchor=\"middle\" x=\"516.5\" y=\"-69.8\" font-family=\"Times New Roman,serif\" font-size=\"14.00\">grad: 0.0000</text>\n</g>\n<!-- 2397521197008+ -->\n<g id=\"node15\" class=\"node\">\n<title>2397521197008+</title>\n<ellipse fill=\"none\" stroke=\"black\" cx=\"625\" cy=\"-100.5\" rx=\"27\" ry=\"18\"/>\n<text text-anchor=\"middle\" x=\"625\" y=\"-96.8\" font-family=\"Times New Roman,serif\" font-size=\"14.00\">+</text>\n</g>\n<!-- 2397521196048&#45;&gt;2397521197008+ -->\n<g id=\"edge12\" class=\"edge\">\n<title>2397521196048&#45;&gt;2397521197008+</title>\n<path fill=\"none\" stroke=\"black\" d=\"M559.83,-90.6C570.05,-92.18 579.82,-93.68 588.51,-95.02\"/>\n<polygon fill=\"black\" stroke=\"black\" points=\"588.12,-98.51 598.54,-96.57 589.19,-91.59 588.12,-98.51\"/>\n</g>\n<!-- 2397521196048* -->\n<g id=\"node2\" class=\"node\">\n<title>2397521196048*</title>\n<ellipse fill=\"none\" stroke=\"black\" cx=\"271\" cy=\"-73.5\" rx=\"27\" ry=\"18\"/>\n<text text-anchor=\"middle\" x=\"271\" y=\"-69.8\" font-family=\"Times New Roman,serif\" font-size=\"14.00\">*</text>\n</g>\n<!-- 2397521196048*&#45;&gt;2397521196048 -->\n<g id=\"edge1\" class=\"edge\">\n<title>2397521196048*&#45;&gt;2397521196048</title>\n<path fill=\"none\" stroke=\"black\" d=\"M298.2,-73.5C306.36,-73.5 315.96,-73.5 326.28,-73.5\"/>\n<polygon fill=\"black\" stroke=\"black\" points=\"326.37,-77 336.37,-73.5 326.37,-70 326.37,-77\"/>\n</g>\n<!-- 2397521196560 -->\n<g id=\"node3\" class=\"node\">\n<title>2397521196560</title>\n<polygon fill=\"none\" stroke=\"black\" points=\"732,-137.5 732,-173.5 925,-173.5 925,-137.5 732,-137.5\"/>\n<text text-anchor=\"middle\" x=\"743.5\" y=\"-151.8\" font-family=\"Times New Roman,serif\" font-size=\"14.00\">b</text>\n<polyline fill=\"none\" stroke=\"black\" points=\"755,-137.5 755,-173.5 \"/>\n<text text-anchor=\"middle\" x=\"797\" y=\"-151.8\" font-family=\"Times New Roman,serif\" font-size=\"14.00\">data: 6.8814</text>\n<polyline fill=\"none\" stroke=\"black\" points=\"839,-137.5 839,-173.5 \"/>\n<text text-anchor=\"middle\" x=\"882\" y=\"-151.8\" font-family=\"Times New Roman,serif\" font-size=\"14.00\">grad: 0.0000</text>\n</g>\n<!-- 2397521190160+ -->\n<g id=\"node9\" class=\"node\">\n<title>2397521190160+</title>\n<ellipse fill=\"none\" stroke=\"black\" cx=\"1032\" cy=\"-127.5\" rx=\"27\" ry=\"18\"/>\n<text text-anchor=\"middle\" x=\"1032\" y=\"-123.8\" font-family=\"Times New Roman,serif\" font-size=\"14.00\">+</text>\n</g>\n<!-- 2397521196560&#45;&gt;2397521190160+ -->\n<g id=\"edge8\" class=\"edge\">\n<title>2397521196560&#45;&gt;2397521190160+</title>\n<path fill=\"none\" stroke=\"black\" d=\"M925.23,-142.2C950.2,-138.73 975.57,-135.2 995.2,-132.47\"/>\n<polygon fill=\"black\" stroke=\"black\" points=\"995.78,-135.93 1005.2,-131.09 994.81,-128.99 995.78,-135.93\"/>\n</g>\n<!-- 2397521198608 -->\n<g id=\"node4\" class=\"node\">\n<title>2397521198608</title>\n<polygon fill=\"none\" stroke=\"black\" points=\"2.5,-55.5 2.5,-91.5 205.5,-91.5 205.5,-55.5 2.5,-55.5\"/>\n<text text-anchor=\"middle\" x=\"19\" y=\"-69.8\" font-family=\"Times New Roman,serif\" font-size=\"14.00\">w2</text>\n<polyline fill=\"none\" stroke=\"black\" points=\"35.5,-55.5 35.5,-91.5 \"/>\n<text text-anchor=\"middle\" x=\"77.5\" y=\"-69.8\" font-family=\"Times New Roman,serif\" font-size=\"14.00\">data: 1.0000</text>\n<polyline fill=\"none\" stroke=\"black\" points=\"119.5,-55.5 119.5,-91.5 \"/>\n<text text-anchor=\"middle\" x=\"162.5\" y=\"-69.8\" font-family=\"Times New Roman,serif\" font-size=\"14.00\">grad: 0.0000</text>\n</g>\n<!-- 2397521198608&#45;&gt;2397521196048* -->\n<g id=\"edge7\" class=\"edge\">\n<title>2397521198608&#45;&gt;2397521196048*</title>\n<path fill=\"none\" stroke=\"black\" d=\"M205.73,-73.5C215.55,-73.5 225,-73.5 233.49,-73.5\"/>\n<polygon fill=\"black\" stroke=\"black\" points=\"233.7,-77 243.7,-73.5 233.7,-70 233.7,-77\"/>\n</g>\n<!-- 2397540232272 -->\n<g id=\"node5\" class=\"node\">\n<title>2397540232272</title>\n<polygon fill=\"none\" stroke=\"black\" points=\"334,-110.5 334,-146.5 562,-146.5 562,-110.5 334,-110.5\"/>\n<text text-anchor=\"middle\" x=\"360.5\" y=\"-124.8\" font-family=\"Times New Roman,serif\" font-size=\"14.00\">x1*w1</text>\n<polyline fill=\"none\" stroke=\"black\" points=\"387,-110.5 387,-146.5 \"/>\n<text text-anchor=\"middle\" x=\"431.5\" y=\"-124.8\" font-family=\"Times New Roman,serif\" font-size=\"14.00\">data: &#45;6.0000</text>\n<polyline fill=\"none\" stroke=\"black\" points=\"476,-110.5 476,-146.5 \"/>\n<text text-anchor=\"middle\" x=\"519\" y=\"-124.8\" font-family=\"Times New Roman,serif\" font-size=\"14.00\">grad: 0.0000</text>\n</g>\n<!-- 2397540232272&#45;&gt;2397521197008+ -->\n<g id=\"edge11\" class=\"edge\">\n<title>2397540232272&#45;&gt;2397521197008+</title>\n<path fill=\"none\" stroke=\"black\" d=\"M561.81,-110.45C571.28,-108.93 580.32,-107.49 588.43,-106.19\"/>\n<polygon fill=\"black\" stroke=\"black\" points=\"589.19,-109.61 598.51,-104.58 588.08,-102.7 589.19,-109.61\"/>\n</g>\n<!-- 2397540232272* -->\n<g id=\"node6\" class=\"node\">\n<title>2397540232272*</title>\n<ellipse fill=\"none\" stroke=\"black\" cx=\"271\" cy=\"-128.5\" rx=\"27\" ry=\"18\"/>\n<text text-anchor=\"middle\" x=\"271\" y=\"-124.8\" font-family=\"Times New Roman,serif\" font-size=\"14.00\">*</text>\n</g>\n<!-- 2397540232272*&#45;&gt;2397540232272 -->\n<g id=\"edge2\" class=\"edge\">\n<title>2397540232272*&#45;&gt;2397540232272</title>\n<path fill=\"none\" stroke=\"black\" d=\"M298.2,-128.5C305.62,-128.5 314.23,-128.5 323.48,-128.5\"/>\n<polygon fill=\"black\" stroke=\"black\" points=\"323.76,-132 333.76,-128.5 323.76,-125 323.76,-132\"/>\n</g>\n<!-- 2397540229712 -->\n<g id=\"node7\" class=\"node\">\n<title>2397540229712</title>\n<polygon fill=\"none\" stroke=\"black\" points=\"4,-165.5 4,-201.5 204,-201.5 204,-165.5 4,-165.5\"/>\n<text text-anchor=\"middle\" x=\"19\" y=\"-179.8\" font-family=\"Times New Roman,serif\" font-size=\"14.00\">x1</text>\n<polyline fill=\"none\" stroke=\"black\" points=\"34,-165.5 34,-201.5 \"/>\n<text text-anchor=\"middle\" x=\"76\" y=\"-179.8\" font-family=\"Times New Roman,serif\" font-size=\"14.00\">data: 2.0000</text>\n<polyline fill=\"none\" stroke=\"black\" points=\"118,-165.5 118,-201.5 \"/>\n<text text-anchor=\"middle\" x=\"161\" y=\"-179.8\" font-family=\"Times New Roman,serif\" font-size=\"14.00\">grad: 0.0000</text>\n</g>\n<!-- 2397540229712&#45;&gt;2397540232272* -->\n<g id=\"edge10\" class=\"edge\">\n<title>2397540229712&#45;&gt;2397540232272*</title>\n<path fill=\"none\" stroke=\"black\" d=\"M179.99,-165.42C189.49,-162.67 199.03,-159.68 208,-156.5 218.55,-152.77 229.78,-147.96 239.74,-143.39\"/>\n<polygon fill=\"black\" stroke=\"black\" points=\"241.28,-146.54 248.84,-139.12 238.3,-140.2 241.28,-146.54\"/>\n</g>\n<!-- 2397521190160 -->\n<g id=\"node8\" class=\"node\">\n<title>2397521190160</title>\n<polygon fill=\"none\" stroke=\"black\" points=\"1095,-109.5 1095,-145.5 1288,-145.5 1288,-109.5 1095,-109.5\"/>\n<text text-anchor=\"middle\" x=\"1106.5\" y=\"-123.8\" font-family=\"Times New Roman,serif\" font-size=\"14.00\">n</text>\n<polyline fill=\"none\" stroke=\"black\" points=\"1118,-109.5 1118,-145.5 \"/>\n<text text-anchor=\"middle\" x=\"1160\" y=\"-123.8\" font-family=\"Times New Roman,serif\" font-size=\"14.00\">data: 0.8814</text>\n<polyline fill=\"none\" stroke=\"black\" points=\"1202,-109.5 1202,-145.5 \"/>\n<text text-anchor=\"middle\" x=\"1245\" y=\"-123.8\" font-family=\"Times New Roman,serif\" font-size=\"14.00\">grad: 0.0000</text>\n</g>\n<!-- 2397539679120tanh -->\n<g id=\"node13\" class=\"node\">\n<title>2397539679120tanh</title>\n<ellipse fill=\"none\" stroke=\"black\" cx=\"1351\" cy=\"-127.5\" rx=\"27\" ry=\"18\"/>\n<text text-anchor=\"middle\" x=\"1351\" y=\"-123.8\" font-family=\"Times New Roman,serif\" font-size=\"14.00\">tanh</text>\n</g>\n<!-- 2397521190160&#45;&gt;2397539679120tanh -->\n<g id=\"edge13\" class=\"edge\">\n<title>2397521190160&#45;&gt;2397539679120tanh</title>\n<path fill=\"none\" stroke=\"black\" d=\"M1288.2,-127.5C1297.15,-127.5 1305.79,-127.5 1313.63,-127.5\"/>\n<polygon fill=\"black\" stroke=\"black\" points=\"1313.78,-131 1323.78,-127.5 1313.78,-124 1313.78,-131\"/>\n</g>\n<!-- 2397521190160+&#45;&gt;2397521190160 -->\n<g id=\"edge3\" class=\"edge\">\n<title>2397521190160+&#45;&gt;2397521190160</title>\n<path fill=\"none\" stroke=\"black\" d=\"M1059.01,-127.5C1066.52,-127.5 1075.21,-127.5 1084.47,-127.5\"/>\n<polygon fill=\"black\" stroke=\"black\" points=\"1084.72,-131 1094.72,-127.5 1084.72,-124 1084.72,-131\"/>\n</g>\n<!-- 2397520734096 -->\n<g id=\"node10\" class=\"node\">\n<title>2397520734096</title>\n<polygon fill=\"none\" stroke=\"black\" points=\"0,-110.5 0,-146.5 208,-146.5 208,-110.5 0,-110.5\"/>\n<text text-anchor=\"middle\" x=\"16.5\" y=\"-124.8\" font-family=\"Times New Roman,serif\" font-size=\"14.00\">w1</text>\n<polyline fill=\"none\" stroke=\"black\" points=\"33,-110.5 33,-146.5 \"/>\n<text text-anchor=\"middle\" x=\"77.5\" y=\"-124.8\" font-family=\"Times New Roman,serif\" font-size=\"14.00\">data: &#45;3.0000</text>\n<polyline fill=\"none\" stroke=\"black\" points=\"122,-110.5 122,-146.5 \"/>\n<text text-anchor=\"middle\" x=\"165\" y=\"-124.8\" font-family=\"Times New Roman,serif\" font-size=\"14.00\">grad: 0.0000</text>\n</g>\n<!-- 2397520734096&#45;&gt;2397540232272* -->\n<g id=\"edge6\" class=\"edge\">\n<title>2397520734096&#45;&gt;2397540232272*</title>\n<path fill=\"none\" stroke=\"black\" d=\"M208.09,-128.5C217.14,-128.5 225.83,-128.5 233.7,-128.5\"/>\n<polygon fill=\"black\" stroke=\"black\" points=\"233.87,-132 243.87,-128.5 233.87,-125 233.87,-132\"/>\n</g>\n<!-- 2397540234576 -->\n<g id=\"node11\" class=\"node\">\n<title>2397540234576</title>\n<polygon fill=\"none\" stroke=\"black\" points=\"4,-0.5 4,-36.5 204,-36.5 204,-0.5 4,-0.5\"/>\n<text text-anchor=\"middle\" x=\"19\" y=\"-14.8\" font-family=\"Times New Roman,serif\" font-size=\"14.00\">x2</text>\n<polyline fill=\"none\" stroke=\"black\" points=\"34,-0.5 34,-36.5 \"/>\n<text text-anchor=\"middle\" x=\"76\" y=\"-14.8\" font-family=\"Times New Roman,serif\" font-size=\"14.00\">data: 0.0000</text>\n<polyline fill=\"none\" stroke=\"black\" points=\"118,-0.5 118,-36.5 \"/>\n<text text-anchor=\"middle\" x=\"161\" y=\"-14.8\" font-family=\"Times New Roman,serif\" font-size=\"14.00\">grad: 0.0000</text>\n</g>\n<!-- 2397540234576&#45;&gt;2397521196048* -->\n<g id=\"edge9\" class=\"edge\">\n<title>2397540234576&#45;&gt;2397521196048*</title>\n<path fill=\"none\" stroke=\"black\" d=\"M176.61,-36.52C187.22,-39.61 197.95,-42.97 208,-46.5 218.3,-50.12 229.3,-54.67 239.13,-59.01\"/>\n<polygon fill=\"black\" stroke=\"black\" points=\"237.95,-62.31 248.5,-63.22 240.82,-55.93 237.95,-62.31\"/>\n</g>\n<!-- 2397539679120 -->\n<g id=\"node12\" class=\"node\">\n<title>2397539679120</title>\n<polygon fill=\"none\" stroke=\"black\" points=\"1414,-109.5 1414,-145.5 1607,-145.5 1607,-109.5 1414,-109.5\"/>\n<text text-anchor=\"middle\" x=\"1425.5\" y=\"-123.8\" font-family=\"Times New Roman,serif\" font-size=\"14.00\">o</text>\n<polyline fill=\"none\" stroke=\"black\" points=\"1437,-109.5 1437,-145.5 \"/>\n<text text-anchor=\"middle\" x=\"1479\" y=\"-123.8\" font-family=\"Times New Roman,serif\" font-size=\"14.00\">data: 0.7071</text>\n<polyline fill=\"none\" stroke=\"black\" points=\"1521,-109.5 1521,-145.5 \"/>\n<text text-anchor=\"middle\" x=\"1564\" y=\"-123.8\" font-family=\"Times New Roman,serif\" font-size=\"14.00\">grad: 0.0000</text>\n</g>\n<!-- 2397539679120tanh&#45;&gt;2397539679120 -->\n<g id=\"edge4\" class=\"edge\">\n<title>2397539679120tanh&#45;&gt;2397539679120</title>\n<path fill=\"none\" stroke=\"black\" d=\"M1378.01,-127.5C1385.52,-127.5 1394.21,-127.5 1403.47,-127.5\"/>\n<polygon fill=\"black\" stroke=\"black\" points=\"1403.72,-131 1413.72,-127.5 1403.72,-124 1403.72,-131\"/>\n</g>\n<!-- 2397521197008 -->\n<g id=\"node14\" class=\"node\">\n<title>2397521197008</title>\n<polygon fill=\"none\" stroke=\"black\" points=\"688,-82.5 688,-118.5 969,-118.5 969,-82.5 688,-82.5\"/>\n<text text-anchor=\"middle\" x=\"741\" y=\"-96.8\" font-family=\"Times New Roman,serif\" font-size=\"14.00\">x1*w1 + x2*w2</text>\n<polyline fill=\"none\" stroke=\"black\" points=\"794,-82.5 794,-118.5 \"/>\n<text text-anchor=\"middle\" x=\"838.5\" y=\"-96.8\" font-family=\"Times New Roman,serif\" font-size=\"14.00\">data: &#45;6.0000</text>\n<polyline fill=\"none\" stroke=\"black\" points=\"883,-82.5 883,-118.5 \"/>\n<text text-anchor=\"middle\" x=\"926\" y=\"-96.8\" font-family=\"Times New Roman,serif\" font-size=\"14.00\">grad: 0.0000</text>\n</g>\n<!-- 2397521197008&#45;&gt;2397521190160+ -->\n<g id=\"edge14\" class=\"edge\">\n<title>2397521197008&#45;&gt;2397521190160+</title>\n<path fill=\"none\" stroke=\"black\" d=\"M963.9,-118.51C975.23,-120.03 985.92,-121.46 995.3,-122.72\"/>\n<polygon fill=\"black\" stroke=\"black\" points=\"994.91,-126.2 1005.29,-124.05 995.84,-119.26 994.91,-126.2\"/>\n</g>\n<!-- 2397521197008+&#45;&gt;2397521197008 -->\n<g id=\"edge5\" class=\"edge\">\n<title>2397521197008+&#45;&gt;2397521197008</title>\n<path fill=\"none\" stroke=\"black\" d=\"M652.34,-100.5C659.79,-100.5 668.45,-100.5 677.87,-100.5\"/>\n<polygon fill=\"black\" stroke=\"black\" points=\"677.94,-104 687.94,-100.5 677.94,-97 677.94,-104\"/>\n</g>\n</g>\n</svg>\n",
      "text/plain": [
       "<graphviz.graphs.Digraph at 0x22e38944b10>"
      ]
     },
     "execution_count": 88,
     "metadata": {},
     "output_type": "execute_result"
    }
   ],
   "execution_count": 88
  },
  {
   "metadata": {
    "ExecuteTime": {
     "end_time": "2024-10-02T14:02:27.397979Z",
     "start_time": "2024-10-02T14:02:27.393567Z"
    }
   },
   "cell_type": "code",
   "source": "o.backward()",
   "id": "4689d11857ac68e4",
   "outputs": [],
   "execution_count": 89
  },
  {
   "metadata": {},
   "cell_type": "markdown",
   "source": [
    "### This approach is good.\n",
    "but there is an underlying bug that we have not come across, lets look into that"
   ],
   "id": "6cafeb138992897d"
  },
  {
   "metadata": {
    "ExecuteTime": {
     "end_time": "2024-10-02T14:02:27.560903Z",
     "start_time": "2024-10-02T14:02:27.408087Z"
    }
   },
   "cell_type": "code",
   "source": [
    "a = Value(3.0, label='a')\n",
    "b = a + a   ; b.label = 'b'\n",
    "b.backward()\n",
    "draw_dot(b)"
   ],
   "id": "d09fcdcc9213c60a",
   "outputs": [
    {
     "data": {
      "image/svg+xml": "<?xml version=\"1.0\" encoding=\"UTF-8\" standalone=\"no\"?>\n<!DOCTYPE svg PUBLIC \"-//W3C//DTD SVG 1.1//EN\"\n \"http://www.w3.org/Graphics/SVG/1.1/DTD/svg11.dtd\">\n<!-- Generated by graphviz version 2.50.0 (0)\n -->\n<!-- Pages: 1 -->\n<svg width=\"520pt\" height=\"45pt\"\n viewBox=\"0.00 0.00 520.00 45.00\" xmlns=\"http://www.w3.org/2000/svg\" xmlns:xlink=\"http://www.w3.org/1999/xlink\">\n<g id=\"graph0\" class=\"graph\" transform=\"scale(1 1) rotate(0) translate(4 41)\">\n<polygon fill=\"white\" stroke=\"transparent\" points=\"-4,4 -4,-41 516,-41 516,4 -4,4\"/>\n<!-- 2397540791696 -->\n<g id=\"node1\" class=\"node\">\n<title>2397540791696</title>\n<polygon fill=\"none\" stroke=\"black\" points=\"319,-0.5 319,-36.5 512,-36.5 512,-0.5 319,-0.5\"/>\n<text text-anchor=\"middle\" x=\"330.5\" y=\"-14.8\" font-family=\"Times New Roman,serif\" font-size=\"14.00\">b</text>\n<polyline fill=\"none\" stroke=\"black\" points=\"342,-0.5 342,-36.5 \"/>\n<text text-anchor=\"middle\" x=\"384\" y=\"-14.8\" font-family=\"Times New Roman,serif\" font-size=\"14.00\">data: 6.0000</text>\n<polyline fill=\"none\" stroke=\"black\" points=\"426,-0.5 426,-36.5 \"/>\n<text text-anchor=\"middle\" x=\"469\" y=\"-14.8\" font-family=\"Times New Roman,serif\" font-size=\"14.00\">grad: 1.0000</text>\n</g>\n<!-- 2397540791696+ -->\n<g id=\"node2\" class=\"node\">\n<title>2397540791696+</title>\n<ellipse fill=\"none\" stroke=\"black\" cx=\"256\" cy=\"-18.5\" rx=\"27\" ry=\"18\"/>\n<text text-anchor=\"middle\" x=\"256\" y=\"-14.8\" font-family=\"Times New Roman,serif\" font-size=\"14.00\">+</text>\n</g>\n<!-- 2397540791696+&#45;&gt;2397540791696 -->\n<g id=\"edge1\" class=\"edge\">\n<title>2397540791696+&#45;&gt;2397540791696</title>\n<path fill=\"none\" stroke=\"black\" d=\"M283.01,-18.5C290.52,-18.5 299.21,-18.5 308.47,-18.5\"/>\n<polygon fill=\"black\" stroke=\"black\" points=\"308.72,-22 318.72,-18.5 308.72,-15 308.72,-22\"/>\n</g>\n<!-- 2397540300432 -->\n<g id=\"node3\" class=\"node\">\n<title>2397540300432</title>\n<polygon fill=\"none\" stroke=\"black\" points=\"0,-0.5 0,-36.5 193,-36.5 193,-0.5 0,-0.5\"/>\n<text text-anchor=\"middle\" x=\"11.5\" y=\"-14.8\" font-family=\"Times New Roman,serif\" font-size=\"14.00\">a</text>\n<polyline fill=\"none\" stroke=\"black\" points=\"23,-0.5 23,-36.5 \"/>\n<text text-anchor=\"middle\" x=\"65\" y=\"-14.8\" font-family=\"Times New Roman,serif\" font-size=\"14.00\">data: 3.0000</text>\n<polyline fill=\"none\" stroke=\"black\" points=\"107,-0.5 107,-36.5 \"/>\n<text text-anchor=\"middle\" x=\"150\" y=\"-14.8\" font-family=\"Times New Roman,serif\" font-size=\"14.00\">grad: 2.0000</text>\n</g>\n<!-- 2397540300432&#45;&gt;2397540791696+ -->\n<g id=\"edge2\" class=\"edge\">\n<title>2397540300432&#45;&gt;2397540791696+</title>\n<path fill=\"none\" stroke=\"black\" d=\"M193.2,-18.5C202.15,-18.5 210.79,-18.5 218.63,-18.5\"/>\n<polygon fill=\"black\" stroke=\"black\" points=\"218.78,-22 228.78,-18.5 218.78,-15 218.78,-22\"/>\n</g>\n</g>\n</svg>\n",
      "text/plain": [
       "<graphviz.graphs.Digraph at 0x22e38911dd0>"
      ]
     },
     "execution_count": 90,
     "metadata": {},
     "output_type": "execute_result"
    }
   ],
   "execution_count": 90
  },
  {
   "metadata": {},
   "cell_type": "markdown",
   "source": [
    "We see that b = a + a, finding db/da we see db/da = 2 but its stored as 1.\n",
    "error is at place where we defined the operations"
   ],
   "id": "d852dfa5d083172b"
  },
  {
   "metadata": {
    "ExecuteTime": {
     "end_time": "2024-10-02T14:02:27.620464Z",
     "start_time": "2024-10-02T14:02:27.572431Z"
    }
   },
   "cell_type": "code",
   "source": [
    "# another situation\n",
    "a = Value(-2.0, label='a')\n",
    "b = Value(3.0, label='b')\n",
    "d = a * b    ; d.label = 'd'\n",
    "e = a + b    ; e.label = 'e'\n",
    "f = d * e    ; f.label = 'f'\n",
    "\n",
    "f.backward()\n",
    "\n",
    "draw_dot(f)"
   ],
   "id": "7481119698c9673c",
   "outputs": [
    {
     "data": {
      "image/svg+xml": "<?xml version=\"1.0\" encoding=\"UTF-8\" standalone=\"no\"?>\n<!DOCTYPE svg PUBLIC \"-//W3C//DTD SVG 1.1//EN\"\n \"http://www.w3.org/Graphics/SVG/1.1/DTD/svg11.dtd\">\n<!-- Generated by graphviz version 2.50.0 (0)\n -->\n<!-- Pages: 1 -->\n<svg width=\"856pt\" height=\"100pt\"\n viewBox=\"0.00 0.00 856.00 100.00\" xmlns=\"http://www.w3.org/2000/svg\" xmlns:xlink=\"http://www.w3.org/1999/xlink\">\n<g id=\"graph0\" class=\"graph\" transform=\"scale(1 1) rotate(0) translate(4 96)\">\n<polygon fill=\"white\" stroke=\"transparent\" points=\"-4,4 -4,-96 852,-96 852,4 -4,4\"/>\n<!-- 2397540811344 -->\n<g id=\"node1\" class=\"node\">\n<title>2397540811344</title>\n<polygon fill=\"none\" stroke=\"black\" points=\"328.5,-55.5 328.5,-91.5 525.5,-91.5 525.5,-55.5 328.5,-55.5\"/>\n<text text-anchor=\"middle\" x=\"340\" y=\"-69.8\" font-family=\"Times New Roman,serif\" font-size=\"14.00\">e</text>\n<polyline fill=\"none\" stroke=\"black\" points=\"351.5,-55.5 351.5,-91.5 \"/>\n<text text-anchor=\"middle\" x=\"393.5\" y=\"-69.8\" font-family=\"Times New Roman,serif\" font-size=\"14.00\">data: 1.0000</text>\n<polyline fill=\"none\" stroke=\"black\" points=\"435.5,-55.5 435.5,-91.5 \"/>\n<text text-anchor=\"middle\" x=\"480.5\" y=\"-69.8\" font-family=\"Times New Roman,serif\" font-size=\"14.00\">grad: &#45;6.0000</text>\n</g>\n<!-- 2397540943312* -->\n<g id=\"node7\" class=\"node\">\n<title>2397540943312*</title>\n<ellipse fill=\"none\" stroke=\"black\" cx=\"589\" cy=\"-45.5\" rx=\"27\" ry=\"18\"/>\n<text text-anchor=\"middle\" x=\"589\" y=\"-41.8\" font-family=\"Times New Roman,serif\" font-size=\"14.00\">*</text>\n</g>\n<!-- 2397540811344&#45;&gt;2397540943312* -->\n<g id=\"edge4\" class=\"edge\">\n<title>2397540811344&#45;&gt;2397540943312*</title>\n<path fill=\"none\" stroke=\"black\" d=\"M525.68,-56.41C535.29,-54.72 544.54,-53.11 552.84,-51.65\"/>\n<polygon fill=\"black\" stroke=\"black\" points=\"553.55,-55.08 562.79,-49.91 552.34,-48.19 553.55,-55.08\"/>\n</g>\n<!-- 2397540811344+ -->\n<g id=\"node2\" class=\"node\">\n<title>2397540811344+</title>\n<ellipse fill=\"none\" stroke=\"black\" cx=\"265\" cy=\"-73.5\" rx=\"27\" ry=\"18\"/>\n<text text-anchor=\"middle\" x=\"265\" y=\"-69.8\" font-family=\"Times New Roman,serif\" font-size=\"14.00\">+</text>\n</g>\n<!-- 2397540811344+&#45;&gt;2397540811344 -->\n<g id=\"edge1\" class=\"edge\">\n<title>2397540811344+&#45;&gt;2397540811344</title>\n<path fill=\"none\" stroke=\"black\" d=\"M292.06,-73.5C299.75,-73.5 308.69,-73.5 318.22,-73.5\"/>\n<polygon fill=\"black\" stroke=\"black\" points=\"318.35,-77 328.35,-73.5 318.35,-70 318.35,-77\"/>\n</g>\n<!-- 2397540815568 -->\n<g id=\"node3\" class=\"node\">\n<title>2397540815568</title>\n<polygon fill=\"none\" stroke=\"black\" points=\"328,-0.5 328,-36.5 526,-36.5 526,-0.5 328,-0.5\"/>\n<text text-anchor=\"middle\" x=\"339.5\" y=\"-14.8\" font-family=\"Times New Roman,serif\" font-size=\"14.00\">d</text>\n<polyline fill=\"none\" stroke=\"black\" points=\"351,-0.5 351,-36.5 \"/>\n<text text-anchor=\"middle\" x=\"395.5\" y=\"-14.8\" font-family=\"Times New Roman,serif\" font-size=\"14.00\">data: &#45;6.0000</text>\n<polyline fill=\"none\" stroke=\"black\" points=\"440,-0.5 440,-36.5 \"/>\n<text text-anchor=\"middle\" x=\"483\" y=\"-14.8\" font-family=\"Times New Roman,serif\" font-size=\"14.00\">grad: 1.0000</text>\n</g>\n<!-- 2397540815568&#45;&gt;2397540943312* -->\n<g id=\"edge7\" class=\"edge\">\n<title>2397540815568&#45;&gt;2397540943312*</title>\n<path fill=\"none\" stroke=\"black\" d=\"M526.14,-35.06C535.5,-36.64 544.5,-38.16 552.61,-39.53\"/>\n<polygon fill=\"black\" stroke=\"black\" points=\"552.26,-43.02 562.7,-41.23 553.42,-36.12 552.26,-43.02\"/>\n</g>\n<!-- 2397540815568* -->\n<g id=\"node4\" class=\"node\">\n<title>2397540815568*</title>\n<ellipse fill=\"none\" stroke=\"black\" cx=\"265\" cy=\"-18.5\" rx=\"27\" ry=\"18\"/>\n<text text-anchor=\"middle\" x=\"265\" y=\"-14.8\" font-family=\"Times New Roman,serif\" font-size=\"14.00\">*</text>\n</g>\n<!-- 2397540815568*&#45;&gt;2397540815568 -->\n<g id=\"edge2\" class=\"edge\">\n<title>2397540815568*&#45;&gt;2397540815568</title>\n<path fill=\"none\" stroke=\"black\" d=\"M292.06,-18.5C299.54,-18.5 308.2,-18.5 317.44,-18.5\"/>\n<polygon fill=\"black\" stroke=\"black\" points=\"317.67,-22 327.67,-18.5 317.67,-15 317.67,-22\"/>\n</g>\n<!-- 2397540995472 -->\n<g id=\"node5\" class=\"node\">\n<title>2397540995472</title>\n<polygon fill=\"none\" stroke=\"black\" points=\"0,-55.5 0,-91.5 202,-91.5 202,-55.5 0,-55.5\"/>\n<text text-anchor=\"middle\" x=\"11.5\" y=\"-69.8\" font-family=\"Times New Roman,serif\" font-size=\"14.00\">a</text>\n<polyline fill=\"none\" stroke=\"black\" points=\"23,-55.5 23,-91.5 \"/>\n<text text-anchor=\"middle\" x=\"67.5\" y=\"-69.8\" font-family=\"Times New Roman,serif\" font-size=\"14.00\">data: &#45;2.0000</text>\n<polyline fill=\"none\" stroke=\"black\" points=\"112,-55.5 112,-91.5 \"/>\n<text text-anchor=\"middle\" x=\"157\" y=\"-69.8\" font-family=\"Times New Roman,serif\" font-size=\"14.00\">grad: &#45;3.0000</text>\n</g>\n<!-- 2397540995472&#45;&gt;2397540811344+ -->\n<g id=\"edge9\" class=\"edge\">\n<title>2397540995472&#45;&gt;2397540811344+</title>\n<path fill=\"none\" stroke=\"black\" d=\"M202.29,-73.5C211.28,-73.5 219.93,-73.5 227.77,-73.5\"/>\n<polygon fill=\"black\" stroke=\"black\" points=\"227.91,-77 237.91,-73.5 227.91,-70 227.91,-77\"/>\n</g>\n<!-- 2397540995472&#45;&gt;2397540815568* -->\n<g id=\"edge6\" class=\"edge\">\n<title>2397540995472&#45;&gt;2397540815568*</title>\n<path fill=\"none\" stroke=\"black\" d=\"M174.26,-55.48C183.66,-52.7 193.11,-49.68 202,-46.5 212.53,-42.73 223.76,-37.91 233.72,-33.34\"/>\n<polygon fill=\"black\" stroke=\"black\" points=\"235.26,-36.49 242.83,-29.08 232.29,-30.15 235.26,-36.49\"/>\n</g>\n<!-- 2397540943312 -->\n<g id=\"node6\" class=\"node\">\n<title>2397540943312</title>\n<polygon fill=\"none\" stroke=\"black\" points=\"652,-27.5 652,-63.5 848,-63.5 848,-27.5 652,-27.5\"/>\n<text text-anchor=\"middle\" x=\"662.5\" y=\"-41.8\" font-family=\"Times New Roman,serif\" font-size=\"14.00\">f</text>\n<polyline fill=\"none\" stroke=\"black\" points=\"673,-27.5 673,-63.5 \"/>\n<text text-anchor=\"middle\" x=\"717.5\" y=\"-41.8\" font-family=\"Times New Roman,serif\" font-size=\"14.00\">data: &#45;6.0000</text>\n<polyline fill=\"none\" stroke=\"black\" points=\"762,-27.5 762,-63.5 \"/>\n<text text-anchor=\"middle\" x=\"805\" y=\"-41.8\" font-family=\"Times New Roman,serif\" font-size=\"14.00\">grad: 1.0000</text>\n</g>\n<!-- 2397540943312*&#45;&gt;2397540943312 -->\n<g id=\"edge3\" class=\"edge\">\n<title>2397540943312*&#45;&gt;2397540943312</title>\n<path fill=\"none\" stroke=\"black\" d=\"M616.26,-45.5C623.77,-45.5 632.46,-45.5 641.72,-45.5\"/>\n<polygon fill=\"black\" stroke=\"black\" points=\"641.97,-49 651.97,-45.5 641.97,-42 641.97,-49\"/>\n</g>\n<!-- 2397539812240 -->\n<g id=\"node8\" class=\"node\">\n<title>2397539812240</title>\n<polygon fill=\"none\" stroke=\"black\" points=\"2.5,-0.5 2.5,-36.5 199.5,-36.5 199.5,-0.5 2.5,-0.5\"/>\n<text text-anchor=\"middle\" x=\"14\" y=\"-14.8\" font-family=\"Times New Roman,serif\" font-size=\"14.00\">b</text>\n<polyline fill=\"none\" stroke=\"black\" points=\"25.5,-0.5 25.5,-36.5 \"/>\n<text text-anchor=\"middle\" x=\"67.5\" y=\"-14.8\" font-family=\"Times New Roman,serif\" font-size=\"14.00\">data: 3.0000</text>\n<polyline fill=\"none\" stroke=\"black\" points=\"109.5,-0.5 109.5,-36.5 \"/>\n<text text-anchor=\"middle\" x=\"154.5\" y=\"-14.8\" font-family=\"Times New Roman,serif\" font-size=\"14.00\">grad: &#45;8.0000</text>\n</g>\n<!-- 2397539812240&#45;&gt;2397540811344+ -->\n<g id=\"edge5\" class=\"edge\">\n<title>2397539812240&#45;&gt;2397540811344+</title>\n<path fill=\"none\" stroke=\"black\" d=\"M171.25,-36.55C181.63,-39.64 192.15,-42.99 202,-46.5 212.29,-50.16 223.28,-54.72 233.11,-59.05\"/>\n<polygon fill=\"black\" stroke=\"black\" points=\"231.93,-62.36 242.49,-63.26 234.8,-55.97 231.93,-62.36\"/>\n</g>\n<!-- 2397539812240&#45;&gt;2397540815568* -->\n<g id=\"edge8\" class=\"edge\">\n<title>2397539812240&#45;&gt;2397540815568*</title>\n<path fill=\"none\" stroke=\"black\" d=\"M199.51,-18.5C209.51,-18.5 219.17,-18.5 227.82,-18.5\"/>\n<polygon fill=\"black\" stroke=\"black\" points=\"227.84,-22 237.84,-18.5 227.84,-15 227.84,-22\"/>\n</g>\n</g>\n</svg>\n",
      "text/plain": [
       "<graphviz.graphs.Digraph at 0x22e38919950>"
      ]
     },
     "execution_count": 91,
     "metadata": {},
     "output_type": "execute_result"
    }
   ],
   "execution_count": 91
  },
  {
   "metadata": {},
   "cell_type": "markdown",
   "source": [
    "if we see multivariable calc notes, we can tell the errors lies since we are assigning the gradient at as self.grad = out.grad * 1 \n",
    "\n",
    "\n",
    "What we have to do is accumulate the sum of all the gradients self.grad += out.grad * 1"
   ],
   "id": "9a40a6e289c6379"
  },
  {
   "metadata": {
    "ExecuteTime": {
     "end_time": "2024-10-02T14:02:27.636896Z",
     "start_time": "2024-10-02T14:02:27.633330Z"
    }
   },
   "cell_type": "code",
   "source": "",
   "id": "734b7b02701731d3",
   "outputs": [],
   "execution_count": null
  }
 ],
 "metadata": {
  "kernelspec": {
   "display_name": "Python 3",
   "language": "python",
   "name": "python3"
  },
  "language_info": {
   "codemirror_mode": {
    "name": "ipython",
    "version": 2
   },
   "file_extension": ".py",
   "mimetype": "text/x-python",
   "name": "python",
   "nbconvert_exporter": "python",
   "pygments_lexer": "ipython2",
   "version": "2.7.6"
  }
 },
 "nbformat": 4,
 "nbformat_minor": 5
}
